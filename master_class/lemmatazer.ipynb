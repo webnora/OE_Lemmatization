{
 "cells": [
  {
   "cell_type": "code",
   "execution_count": 3,
   "metadata": {},
   "outputs": [
    {
     "name": "stdout",
     "output_type": "stream",
     "text": [
      "All words: 7269\n",
      "Forms not found: 5000\n",
      "Lemms not found: 2115\n"
     ]
    }
   ],
   "source": [
    "from lemmatazer import Lemmatazer\n",
    "\n",
    "lm = Lemmatazer()\n",
    "lm.parse()\n",
    "lm.print_statistics()\n",
    "# lm.save()"
   ]
  }
 ],
 "metadata": {
  "kernelspec": {
   "display_name": ".venv",
   "language": "python",
   "name": "python3"
  },
  "language_info": {
   "codemirror_mode": {
    "name": "ipython",
    "version": 3
   },
   "file_extension": ".py",
   "mimetype": "text/x-python",
   "name": "python",
   "nbconvert_exporter": "python",
   "pygments_lexer": "ipython3",
   "version": "3.12.7"
  }
 },
 "nbformat": 4,
 "nbformat_minor": 2
}
