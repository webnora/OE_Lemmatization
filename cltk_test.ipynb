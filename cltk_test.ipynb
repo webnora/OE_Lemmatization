{
 "cells": [
  {
   "cell_type": "code",
   "execution_count": null,
   "id": "strategic-andrews",
   "metadata": {},
   "outputs": [],
   "source": []
  },
  {
   "cell_type": "code",
   "execution_count": 2,
   "id": "guilty-turner",
   "metadata": {},
   "outputs": [
    {
     "name": "stdout",
     "output_type": "stream",
     "text": [
      "Requirement already satisfied: cltk in /usr/local/lib/python3.11/site-packages (1.3.0)\n",
      "Requirement already satisfied: PyYAML<7.0.0,>=6.0.0 in /usr/local/lib/python3.11/site-packages (from cltk) (6.0.1)\n",
      "Requirement already satisfied: boltons<22.0.0,>=21.0.0 in /usr/local/lib/python3.11/site-packages (from cltk) (21.0.0)\n",
      "Requirement already satisfied: gensim<5.0.0,>=4.3.2 in /usr/local/lib/python3.11/site-packages (from cltk) (4.3.3)\n",
      "Requirement already satisfied: gitpython<4.0,>=3.0 in /usr/local/lib/python3.11/site-packages (from cltk) (3.1.43)\n",
      "Requirement already satisfied: greek-accentuation<2.0.0,>=1.2.0 in /usr/local/lib/python3.11/site-packages (from cltk) (1.2.0)\n",
      "Requirement already satisfied: nltk<4.0,>=3.7 in /usr/local/lib/python3.11/site-packages (from cltk) (3.9.1)\n",
      "Requirement already satisfied: rapidfuzz<4.0.0,>=3.4.0 in /usr/local/lib/python3.11/site-packages (from cltk) (3.10.1)\n",
      "Requirement already satisfied: requests<3.0.0,>=2.22.0 in /usr/local/lib/python3.11/site-packages (from cltk) (2.32.3)\n",
      "Requirement already satisfied: scikit-learn<2.0.0,>=1.0.2 in /usr/local/lib/python3.11/site-packages (from cltk) (1.5.2)\n",
      "Requirement already satisfied: scipy<1.13.0 in /usr/local/lib/python3.11/site-packages (from cltk) (1.12.0)\n",
      "Requirement already satisfied: spacy==3.7.4 in /usr/local/lib/python3.11/site-packages (from cltk) (3.7.4)\n",
      "Requirement already satisfied: stanza<2.0.0,>=1.6.0 in /usr/local/lib/python3.11/site-packages (from cltk) (1.9.2)\n",
      "Requirement already satisfied: stringcase<2.0,>=1.2 in /usr/local/lib/python3.11/site-packages (from cltk) (1.2.0)\n",
      "Requirement already satisfied: torch!=2.0.1,!=2.1.0,>=2.0.0 in /usr/local/lib/python3.11/site-packages (from cltk) (2.2.2)\n",
      "Requirement already satisfied: tqdm<5.0.0,>=4.41.1 in /usr/local/lib/python3.11/site-packages (from cltk) (4.66.5)\n",
      "Requirement already satisfied: spacy-legacy<3.1.0,>=3.0.11 in /usr/local/lib/python3.11/site-packages (from spacy==3.7.4->cltk) (3.0.12)\n",
      "Requirement already satisfied: spacy-loggers<2.0.0,>=1.0.0 in /usr/local/lib/python3.11/site-packages (from spacy==3.7.4->cltk) (1.0.5)\n",
      "Requirement already satisfied: murmurhash<1.1.0,>=0.28.0 in /usr/local/lib/python3.11/site-packages (from spacy==3.7.4->cltk) (1.0.10)\n",
      "Requirement already satisfied: cymem<2.1.0,>=2.0.2 in /usr/local/lib/python3.11/site-packages (from spacy==3.7.4->cltk) (2.0.8)\n",
      "Requirement already satisfied: preshed<3.1.0,>=3.0.2 in /usr/local/lib/python3.11/site-packages (from spacy==3.7.4->cltk) (3.0.9)\n",
      "Requirement already satisfied: thinc<8.3.0,>=8.2.2 in /usr/local/lib/python3.11/site-packages (from spacy==3.7.4->cltk) (8.2.5)\n",
      "Requirement already satisfied: wasabi<1.2.0,>=0.9.1 in /usr/local/lib/python3.11/site-packages (from spacy==3.7.4->cltk) (1.1.3)\n",
      "Requirement already satisfied: srsly<3.0.0,>=2.4.3 in /usr/local/lib/python3.11/site-packages (from spacy==3.7.4->cltk) (2.4.8)\n",
      "Requirement already satisfied: catalogue<2.1.0,>=2.0.6 in /usr/local/lib/python3.11/site-packages (from spacy==3.7.4->cltk) (2.0.10)\n",
      "Requirement already satisfied: weasel<0.4.0,>=0.1.0 in /usr/local/lib/python3.11/site-packages (from spacy==3.7.4->cltk) (0.3.4)\n",
      "Requirement already satisfied: typer<0.10.0,>=0.3.0 in /usr/local/lib/python3.11/site-packages (from spacy==3.7.4->cltk) (0.9.4)\n",
      "Requirement already satisfied: smart-open<7.0.0,>=5.2.1 in /usr/local/lib/python3.11/site-packages (from spacy==3.7.4->cltk) (6.4.0)\n",
      "Requirement already satisfied: pydantic!=1.8,!=1.8.1,<3.0.0,>=1.7.4 in /usr/local/lib/python3.11/site-packages (from spacy==3.7.4->cltk) (2.9.2)\n",
      "Requirement already satisfied: jinja2 in /usr/local/lib/python3.11/site-packages (from spacy==3.7.4->cltk) (3.1.3)\n",
      "Requirement already satisfied: setuptools in /usr/local/lib/python3.11/site-packages (from spacy==3.7.4->cltk) (69.0.2)\n",
      "Requirement already satisfied: packaging>=20.0 in /Users/nora/Library/Python/3.11/lib/python/site-packages (from spacy==3.7.4->cltk) (23.2)\n",
      "Requirement already satisfied: langcodes<4.0.0,>=3.2.0 in /usr/local/lib/python3.11/site-packages (from spacy==3.7.4->cltk) (3.4.1)\n",
      "Requirement already satisfied: numpy>=1.19.0 in /usr/local/lib/python3.11/site-packages (from spacy==3.7.4->cltk) (1.26.3)\n",
      "Requirement already satisfied: gitdb<5,>=4.0.1 in /usr/local/lib/python3.11/site-packages (from gitpython<4.0,>=3.0->cltk) (4.0.11)\n",
      "Requirement already satisfied: click in /usr/local/lib/python3.11/site-packages (from nltk<4.0,>=3.7->cltk) (8.1.7)\n",
      "Requirement already satisfied: joblib in /usr/local/lib/python3.11/site-packages (from nltk<4.0,>=3.7->cltk) (1.4.2)\n",
      "Requirement already satisfied: regex>=2021.8.3 in /usr/local/lib/python3.11/site-packages (from nltk<4.0,>=3.7->cltk) (2024.9.11)\n",
      "Requirement already satisfied: charset-normalizer<4,>=2 in /usr/local/lib/python3.11/site-packages (from requests<3.0.0,>=2.22.0->cltk) (3.4.0)\n",
      "Requirement already satisfied: idna<4,>=2.5 in /usr/local/lib/python3.11/site-packages (from requests<3.0.0,>=2.22.0->cltk) (3.6)\n",
      "Requirement already satisfied: urllib3<3,>=1.21.1 in /usr/local/lib/python3.11/site-packages (from requests<3.0.0,>=2.22.0->cltk) (2.2.3)\n",
      "Requirement already satisfied: certifi>=2017.4.17 in /usr/local/lib/python3.11/site-packages (from requests<3.0.0,>=2.22.0->cltk) (2023.11.17)\n",
      "Requirement already satisfied: threadpoolctl>=3.1.0 in /usr/local/lib/python3.11/site-packages (from scikit-learn<2.0.0,>=1.0.2->cltk) (3.5.0)\n",
      "Requirement already satisfied: emoji in /usr/local/lib/python3.11/site-packages (from stanza<2.0.0,>=1.6.0->cltk) (2.14.0)\n",
      "Requirement already satisfied: protobuf>=3.15.0 in /usr/local/lib/python3.11/site-packages (from stanza<2.0.0,>=1.6.0->cltk) (5.28.3)\n",
      "Requirement already satisfied: networkx in /usr/local/lib/python3.11/site-packages (from stanza<2.0.0,>=1.6.0->cltk) (3.4.2)\n",
      "Requirement already satisfied: filelock in /usr/local/lib/python3.11/site-packages (from torch!=2.0.1,!=2.1.0,>=2.0.0->cltk) (3.16.1)\n",
      "Requirement already satisfied: typing-extensions>=4.8.0 in /usr/local/lib/python3.11/site-packages (from torch!=2.0.1,!=2.1.0,>=2.0.0->cltk) (4.12.2)\n",
      "Requirement already satisfied: sympy in /usr/local/lib/python3.11/site-packages (from torch!=2.0.1,!=2.1.0,>=2.0.0->cltk) (1.13.3)\n",
      "Requirement already satisfied: fsspec in /usr/local/lib/python3.11/site-packages (from torch!=2.0.1,!=2.1.0,>=2.0.0->cltk) (2024.10.0)\n",
      "Requirement already satisfied: smmap<6,>=3.0.1 in /usr/local/lib/python3.11/site-packages (from gitdb<5,>=4.0.1->gitpython<4.0,>=3.0->cltk) (5.0.1)\n",
      "Requirement already satisfied: language-data>=1.2 in /usr/local/lib/python3.11/site-packages (from langcodes<4.0.0,>=3.2.0->spacy==3.7.4->cltk) (1.2.0)\n",
      "Requirement already satisfied: annotated-types>=0.6.0 in /usr/local/lib/python3.11/site-packages (from pydantic!=1.8,!=1.8.1,<3.0.0,>=1.7.4->spacy==3.7.4->cltk) (0.7.0)\n",
      "Requirement already satisfied: pydantic-core==2.23.4 in /usr/local/lib/python3.11/site-packages (from pydantic!=1.8,!=1.8.1,<3.0.0,>=1.7.4->spacy==3.7.4->cltk) (2.23.4)\n",
      "Requirement already satisfied: blis<0.8.0,>=0.7.8 in /usr/local/lib/python3.11/site-packages (from thinc<8.3.0,>=8.2.2->spacy==3.7.4->cltk) (0.7.11)\n",
      "Requirement already satisfied: confection<1.0.0,>=0.0.1 in /usr/local/lib/python3.11/site-packages (from thinc<8.3.0,>=8.2.2->spacy==3.7.4->cltk) (0.1.5)\n",
      "Requirement already satisfied: cloudpathlib<0.17.0,>=0.7.0 in /usr/local/lib/python3.11/site-packages (from weasel<0.4.0,>=0.1.0->spacy==3.7.4->cltk) (0.16.0)\n",
      "Requirement already satisfied: MarkupSafe>=2.0 in /usr/local/lib/python3.11/site-packages (from jinja2->spacy==3.7.4->cltk) (2.1.4)\n",
      "Requirement already satisfied: mpmath<1.4,>=1.1.0 in /usr/local/lib/python3.11/site-packages (from sympy->torch!=2.0.1,!=2.1.0,>=2.0.0->cltk) (1.3.0)\n",
      "Requirement already satisfied: marisa-trie>=0.7.7 in /usr/local/lib/python3.11/site-packages (from language-data>=1.2->langcodes<4.0.0,>=3.2.0->spacy==3.7.4->cltk) (1.2.1)\n"
     ]
    }
   ],
   "source": [
    "! pip3 install cltk"
   ]
  },
  {
   "cell_type": "code",
   "execution_count": 5,
   "id": "cleared-copying",
   "metadata": {},
   "outputs": [
    {
     "ename": "ModuleNotFoundError",
     "evalue": "No module named 'cltk'",
     "output_type": "error",
     "traceback": [
      "\u001b[0;31m---------------------------------------------------------------------------\u001b[0m",
      "\u001b[0;31mModuleNotFoundError\u001b[0m                       Traceback (most recent call last)",
      "\u001b[0;32m<ipython-input-5-ac11320b2c08>\u001b[0m in \u001b[0;36m<module>\u001b[0;34m\u001b[0m\n\u001b[0;32m----> 1\u001b[0;31m \u001b[0;32mfrom\u001b[0m \u001b[0mcltk\u001b[0m \u001b[0;32mimport\u001b[0m \u001b[0mNLP\u001b[0m\u001b[0;34m\u001b[0m\u001b[0;34m\u001b[0m\u001b[0m\n\u001b[0m\u001b[1;32m      2\u001b[0m \u001b[0mvitruvius\u001b[0m \u001b[0;34m=\u001b[0m \u001b[0;34m\"Architecti est scientia pluribus disciplinis et variis eruditionibus ornata, quae ab ceteris artibus perficiuntur. Opera ea nascitur et fabrica et ratiocinatione.\"\u001b[0m\u001b[0;34m\u001b[0m\u001b[0;34m\u001b[0m\u001b[0m\n\u001b[1;32m      3\u001b[0m \u001b[0mcltk_nlp\u001b[0m \u001b[0;34m=\u001b[0m \u001b[0mNLP\u001b[0m\u001b[0;34m(\u001b[0m\u001b[0mlanguage\u001b[0m\u001b[0;34m=\u001b[0m\u001b[0;34m\"lat\"\u001b[0m\u001b[0;34m)\u001b[0m\u001b[0;34m\u001b[0m\u001b[0;34m\u001b[0m\u001b[0m\n\u001b[1;32m      4\u001b[0m \u001b[0;34m\u001b[0m\u001b[0m\n\u001b[1;32m      5\u001b[0m \u001b[0mcltk_doc\u001b[0m \u001b[0;34m=\u001b[0m \u001b[0mcltk_nlp\u001b[0m\u001b[0;34m.\u001b[0m\u001b[0manalyze\u001b[0m\u001b[0;34m(\u001b[0m\u001b[0mtext\u001b[0m\u001b[0;34m=\u001b[0m\u001b[0mvitruvius\u001b[0m\u001b[0;34m)\u001b[0m\u001b[0;34m\u001b[0m\u001b[0;34m\u001b[0m\u001b[0m\n",
      "\u001b[0;31mModuleNotFoundError\u001b[0m: No module named 'cltk'"
     ]
    }
   ],
   "source": [
    "from cltk import NLP\n",
    "vitruvius = \"Architecti est scientia pluribus disciplinis et variis eruditionibus ornata, quae ab ceteris artibus perficiuntur. Opera ea nascitur et fabrica et ratiocinatione.\"\n",
    "cltk_nlp = NLP(language=\"lat\")\n",
    "\n",
    "cltk_doc = cltk_nlp.analyze(text=vitruvius)"
   ]
  },
  {
   "cell_type": "code",
   "execution_count": 1,
   "id": "hindu-opinion",
   "metadata": {},
   "outputs": [
    {
     "ename": "ModuleNotFoundError",
     "evalue": "No module named 'cltk'",
     "output_type": "error",
     "traceback": [
      "\u001b[0;31m---------------------------------------------------------------------------\u001b[0m",
      "\u001b[0;31mModuleNotFoundError\u001b[0m                       Traceback (most recent call last)",
      "\u001b[0;32m<ipython-input-1-a57f1f2d47d5>\u001b[0m in \u001b[0;36m<module>\u001b[0;34m\u001b[0m\n\u001b[0;32m----> 1\u001b[0;31m \u001b[0;32mfrom\u001b[0m \u001b[0mcltk\u001b[0m\u001b[0;34m.\u001b[0m\u001b[0mcorpus\u001b[0m\u001b[0;34m.\u001b[0m\u001b[0mutils\u001b[0m\u001b[0;34m.\u001b[0m\u001b[0mimporter\u001b[0m \u001b[0;32mimport\u001b[0m \u001b[0mCorpusImporter\u001b[0m\u001b[0;34m\u001b[0m\u001b[0;34m\u001b[0m\u001b[0m\n\u001b[0m\u001b[1;32m      2\u001b[0m \u001b[0;34m\u001b[0m\u001b[0m\n\u001b[1;32m      3\u001b[0m \u001b[0mcorpus_importer\u001b[0m \u001b[0;34m=\u001b[0m \u001b[0mCorpusImporter\u001b[0m\u001b[0;34m(\u001b[0m\u001b[0;34m\"old_english\"\u001b[0m\u001b[0;34m)\u001b[0m\u001b[0;34m\u001b[0m\u001b[0;34m\u001b[0m\u001b[0m\n\u001b[1;32m      4\u001b[0m \u001b[0;34m\u001b[0m\u001b[0m\n\u001b[1;32m      5\u001b[0m \u001b[0mcorpus_importer\u001b[0m\u001b[0;34m.\u001b[0m\u001b[0mlist_corpora\u001b[0m\u001b[0;34m\u001b[0m\u001b[0;34m\u001b[0m\u001b[0m\n",
      "\u001b[0;31mModuleNotFoundError\u001b[0m: No module named 'cltk'"
     ]
    }
   ],
   "source": [
    "from cltk.corpus.utils.importer import CorpusImporter\n",
    "\n",
    "corpus_importer = CorpusImporter(\"old_english\")\n",
    "\n",
    "corpus_importer.list_corpora\n",
    "['old_english_text_sacred_texts', 'old_english_models_cltk']"
   ]
  },
  {
   "cell_type": "code",
   "execution_count": null,
   "id": "subtle-barrel",
   "metadata": {},
   "outputs": [],
   "source": []
  }
 ],
 "metadata": {
  "kernelspec": {
   "display_name": "Python 3",
   "language": "python",
   "name": "python3"
  },
  "language_info": {
   "codemirror_mode": {
    "name": "ipython",
    "version": 3
   },
   "file_extension": ".py",
   "mimetype": "text/x-python",
   "name": "python",
   "nbconvert_exporter": "python",
   "pygments_lexer": "ipython3",
   "version": "3.9.18"
  }
 },
 "nbformat": 4,
 "nbformat_minor": 5
}
