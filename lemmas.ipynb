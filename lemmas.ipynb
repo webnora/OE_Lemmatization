{
 "cells": [
  {
   "cell_type": "code",
   "execution_count": 18,
   "metadata": {},
   "outputs": [
    {
     "name": "stdout",
     "output_type": "stream",
     "text": [
      "lemmas: 5878 in d/in/dict.txt\n",
      "lemmas: 7158 in d/unimorph/dict.txt\n",
      "new lemmas: 5573 in d/in/dict.txt\n"
     ]
    }
   ],
   "source": [
    "from unimorph import Unimorph\n",
    "\n",
    "class Lemmas:\n",
    "  file_in = Unimorph.file_out\n",
    "  file_out = 'd/lemmas/dict.txt'\n",
    "  file_unknown = 'd/in/dict.txt'\n",
    "\n",
    "  def __init__(self, file = file_in):\n",
    "    self.lemmas = self.load(file)\n",
    "    self.file = file\n",
    "\n",
    "  def load(self, file = file_in):\n",
    "    lemmas = {}\n",
    "    with open(file, 'r') as f:\n",
    "      for lemma in f.read().split('\\n\\n'):\n",
    "        for form in lemma.split('\\n'):\n",
    "          arr = form.split('\\t')\n",
    "          if len(arr) == 2:\n",
    "            lemmas[arr[0]] = arr[1]\n",
    "    return lemmas\n",
    "\n",
    "  def stat(self):\n",
    "    print(f'lemmas: {len(self.lemmas.keys())} in {self.file}')\n",
    "\n",
    "  def diff(self, file = file_unknown):\n",
    "    lemmas = self.load(file)\n",
    "    diff = set(self.lemmas.keys()) - set(lemmas.keys())\n",
    "    print(f'new lemmas: {len(diff)} in {file}')\n",
    "  \n",
    "u0 = Lemmas(Lemmas.file_unknown)\n",
    "u0.stat()\n",
    "\n",
    "u1 = Lemmas()\n",
    "u1.stat()\n",
    "u1.diff()"
   ]
  }
 ],
 "metadata": {
  "kernelspec": {
   "display_name": ".venv",
   "language": "python",
   "name": "python3"
  },
  "language_info": {
   "codemirror_mode": {
    "name": "ipython",
    "version": 3
   },
   "file_extension": ".py",
   "mimetype": "text/x-python",
   "name": "python",
   "nbconvert_exporter": "python",
   "pygments_lexer": "ipython3",
   "version": "3.12.7"
  }
 },
 "nbformat": 4,
 "nbformat_minor": 2
}
