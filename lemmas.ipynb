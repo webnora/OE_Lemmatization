{
 "cells": [
  {
   "cell_type": "code",
   "execution_count": 2,
   "metadata": {},
   "outputs": [],
   "source": [
    "from lemmas import Lemmas"
   ]
  },
  {
   "cell_type": "code",
   "execution_count": 3,
   "metadata": {},
   "outputs": [
    {
     "name": "stdout",
     "output_type": "stream",
     "text": [
      "lemmas: 5878 in d/in/dict.tsv\n",
      "Forms:  40538 in d/in/dict.tsv\n",
      "lemmas: 7158 in d/unimorph/dict.tsv\n",
      "Forms:  50542 in d/unimorph/dict.tsv\n",
      "new lemmas: 5573 in d/in/dict.tsv\n",
      "save dict to: d/lemmas/dict.tsv\n",
      "lemmas: 11451 in d/lemmas/dict.tsv\n",
      "Forms:  80778 in d/lemmas/dict.tsv\n",
      "*hūlian: ['*hūla', '*hūlast', '*hūlaþ', '*hūlian', '*hūliaþ', '*hūliende', '*hūlienne', '*hūliġe', '*hūliġen', '*hūlode', '*hūloden', '*hūlodest', '*hūlodon', 'ġe)*hūlod']\n",
      "1000: ['10', '1000', 'hund', 'hundfeald', 'hundred', 'hundtēontigoþa', 'hundtēontiġ']\n",
      "Antecrist: ['Antecrist', 'Antecrista', 'Antecristas', 'Antecriste', 'Antecristes', 'Antecristum']\n",
      "ȳþġebland: ['ȳþġebland', 'ȳþġeblanda', 'ȳþġeblande', 'ȳþġeblandes', 'ȳþġeblandum']\n",
      "ȳþġewinn: ['ȳþġewinn', 'ȳþġewinna', 'ȳþġewinne', 'ȳþġewinnes', 'ȳþġewinnum']\n",
      "ȳċe: ['ȳċa', 'ȳċan', 'ȳċas', 'ȳċe', 'ȳċea', 'ȳċean', 'ȳċeas', 'ȳċena', 'ȳċes', 'ȳċeum', 'ȳċum']\n"
     ]
    }
   ],
   "source": [
    "l0 = Lemmas(Lemmas.file_unknown)\n",
    "l0.stat()\n",
    "\n",
    "l1 = Lemmas()\n",
    "l1.stat()\n",
    "# u1.print()\n",
    "l1.diff()\n",
    "l1.merge()\n",
    "# u1.print()\n",
    "l1.save()\n",
    "\n",
    "l2 = Lemmas(Lemmas.file_out)\n",
    "l2.stat()\n",
    "\n",
    "l2.print()"
   ]
  },
  {
   "cell_type": "code",
   "execution_count": 4,
   "metadata": {},
   "outputs": [
    {
     "name": "stdout",
     "output_type": "stream",
     "text": [
      "lemmas: 7158 in d/unimorph/dict.tsv\n",
      "Forms:  50542 in d/unimorph/dict.tsv\n",
      "lemmas: 7090 in d/unimorph/dict.tsv\n",
      "Forms:  50191 in d/unimorph/dict.tsv\n",
      "save dict to: d/lemmas/unimorph_norm.tsv\n"
     ]
    }
   ],
   "source": [
    "l2 = Lemmas()\n",
    "l2.stat()\n",
    "l2.norm()\n",
    "l2.stat()\n",
    "l2.save(Lemmas.file_unimorph_norm)"
   ]
  }
 ],
 "metadata": {
  "kernelspec": {
   "display_name": ".venv",
   "language": "python",
   "name": "python3"
  },
  "language_info": {
   "codemirror_mode": {
    "name": "ipython",
    "version": 3
   },
   "file_extension": ".py",
   "mimetype": "text/x-python",
   "name": "python",
   "nbconvert_exporter": "python",
   "pygments_lexer": "ipython3",
   "version": "3.12.7"
  }
 },
 "nbformat": 4,
 "nbformat_minor": 2
}
