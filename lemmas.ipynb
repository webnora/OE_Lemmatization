{
 "cells": [
  {
   "cell_type": "code",
   "execution_count": 32,
   "metadata": {},
   "outputs": [
    {
     "name": "stdout",
     "output_type": "stream",
     "text": [
      "lemmas: 5879 in d/in/dict.txt\n",
      "lemmas: 7159 in d/unimorph/dict.txt\n",
      "new lemmas: 5573 in d/in/dict.txt\n",
      "save dict to: d/lemmas/dict.txt\n",
      "lemmas: 11451 in d/lemmas/dict.txt\n"
     ]
    }
   ],
   "source": [
    "from unimorph import Unimorph\n",
    "\n",
    "class Lemmas:\n",
    "  file_in = Unimorph.file_out\n",
    "  file_out = 'd/lemmas/dict.txt'\n",
    "  file_unknown = 'd/in/dict.txt'\n",
    "\n",
    "  def __init__(self, file = file_in):\n",
    "    self.lemmas = self.load(file)\n",
    "    self.file = file\n",
    "\n",
    "  def load(self, file = file_in):\n",
    "    lemmas = {}\n",
    "    with open(file, 'r') as f:\n",
    "      for lemma in f.read().split('\\n\\n'):\n",
    "        forms = [l.split('\\t') for l in lemma.split('\\n')]\n",
    "        lemmas[forms[0][0]] = [l[1] for l in forms if len(l) > 1]\n",
    "    return lemmas\n",
    "\n",
    "  def save(self, file = file_out):\n",
    "    print(f'save dict to: {file}')\n",
    "    with open(file, 'w') as f:\n",
    "      for lemma in sorted(self.lemmas.keys()):\n",
    "        for form in self.lemmas[lemma]:\n",
    "          f.write(f'{lemma}\\t{form}\\n')\n",
    "        f.write('\\n')\n",
    "\n",
    "  def stat(self):\n",
    "    print(f'lemmas: {len(self.lemmas.keys())} in {self.file}')\n",
    "\n",
    "  def diff(self, file = file_unknown):\n",
    "    lemmas = self.load(file)\n",
    "    diff = set(self.lemmas.keys()) - set(lemmas.keys())\n",
    "    print(f'new lemmas: {len(diff)} in {file}')\n",
    "\n",
    "  def merge(self, file = file_unknown):\n",
    "    lemmas = self.load(file)\n",
    "    for lemma in lemmas.keys():\n",
    "      self.lemmas[lemma] = list({\n",
    "        *set(lemmas.get(lemma, [])), \n",
    "        *set(self.lemmas.get(lemma, []))\n",
    "        })\n",
    "\n",
    "  def print(self, limit = 3):\n",
    "    for lemma in list(self.lemmas.keys())[:limit]:\n",
    "      print(f'{lemma}: {self.lemmas[lemma]}')\n",
    "\n",
    "u0 = Lemmas(Lemmas.file_unknown)\n",
    "u0.stat()\n",
    "\n",
    "u1 = Lemmas()\n",
    "u1.stat()\n",
    "# u1.print()\n",
    "u1.diff()\n",
    "u1.merge()\n",
    "# u1.print()\n",
    "u1.save()\n",
    "\n",
    "u2 = Lemmas(Lemmas.file_out)\n",
    "u2.stat()\n"
   ]
  },
  {
   "cell_type": "code",
   "execution_count": null,
   "metadata": {},
   "outputs": [],
   "source": []
  }
 ],
 "metadata": {
  "kernelspec": {
   "display_name": ".venv",
   "language": "python",
   "name": "python3"
  },
  "language_info": {
   "codemirror_mode": {
    "name": "ipython",
    "version": 3
   },
   "file_extension": ".py",
   "mimetype": "text/x-python",
   "name": "python",
   "nbconvert_exporter": "python",
   "pygments_lexer": "ipython3",
   "version": "3.12.7"
  }
 },
 "nbformat": 4,
 "nbformat_minor": 2
}
