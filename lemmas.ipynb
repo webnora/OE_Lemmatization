{
 "cells": [
  {
   "cell_type": "code",
   "execution_count": 41,
   "metadata": {},
   "outputs": [
    {
     "name": "stdout",
     "output_type": "stream",
     "text": [
      "lemmas: 5878 in d/in/dict.txt\n",
      "lemmas: 7158 in d/unimorph/dict.txt\n",
      "new lemmas: 5573 in d/in/dict.txt\n",
      "save dict to: d/lemmas/dict.txt\n",
      "lemmas: 11451 in d/lemmas/dict.txt\n",
      "*hūlian: ['*hūla', '*hūlast', '*hūlaþ', '*hūlian', '*hūliaþ', '*hūliende', '*hūlienne', '*hūliġe', '*hūliġen', '*hūlode', '*hūloden', '*hūlodest', '*hūlodon', 'ġe)*hūlod']\n",
      "1000: ['10', '1000', 'hund', 'hundfeald', 'hundred', 'hundtēontigoþa', 'hundtēontiġ']\n",
      "Antecrist: ['Antecrist', 'Antecrista', 'Antecristas', 'Antecriste', 'Antecristes', 'Antecristum']\n",
      "ȳþġebland: ['ȳþġebland', 'ȳþġeblanda', 'ȳþġeblande', 'ȳþġeblandes', 'ȳþġeblandum']\n",
      "ȳþġewinn: ['ȳþġewinn', 'ȳþġewinna', 'ȳþġewinne', 'ȳþġewinnes', 'ȳþġewinnum']\n",
      "ȳċe: ['ȳċa', 'ȳċan', 'ȳċas', 'ȳċe', 'ȳċea', 'ȳċean', 'ȳċeas', 'ȳċena', 'ȳċes', 'ȳċeum', 'ȳċum']\n"
     ]
    }
   ],
   "source": [
    "from lemmas import Lemmas\n",
    "\n",
    "u0 = Lemmas(Lemmas.file_unknown)\n",
    "u0.stat()\n",
    "\n",
    "u1 = Lemmas()\n",
    "u1.stat()\n",
    "# u1.print()\n",
    "u1.diff()\n",
    "u1.merge()\n",
    "# u1.print()\n",
    "u1.save()\n",
    "\n",
    "u2 = Lemmas(Lemmas.file_out)\n",
    "u2.stat()\n",
    "u2.print()"
   ]
  }
 ],
 "metadata": {
  "kernelspec": {
   "display_name": ".venv",
   "language": "python",
   "name": "python3"
  },
  "language_info": {
   "codemirror_mode": {
    "name": "ipython",
    "version": 3
   },
   "file_extension": ".py",
   "mimetype": "text/x-python",
   "name": "python",
   "nbconvert_exporter": "python",
   "pygments_lexer": "ipython3",
   "version": "3.12.7"
  }
 },
 "nbformat": 4,
 "nbformat_minor": 2
}
