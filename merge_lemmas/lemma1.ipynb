{
 "cells": [
  {
   "cell_type": "code",
   "execution_count": 79,
   "metadata": {},
   "outputs": [],
   "source": [
    "import os\n",
    "path_data = '../../data/'"
   ]
  },
  {
   "cell_type": "code",
   "execution_count": 109,
   "metadata": {
    "collapsed": true,
    "jupyter": {
     "outputs_hidden": true
    }
   },
   "outputs": [
    {
     "data": {
      "text/plain": [
       "{'file': 'oe.lemmas',\n",
       " 'lemma': 'macian',\n",
       " 'forms': ['maciaþ,maciġaþ',\n",
       "  'macodest',\n",
       "  'macian',\n",
       "  'maciende,maciġende',\n",
       "  'macaþ',\n",
       "  'macienne',\n",
       "  'maca',\n",
       "  'macien,maciġen',\n",
       "  'macoden',\n",
       "  'ġemacod,macod',\n",
       "  'macodon',\n",
       "  'macie,maciġe',\n",
       "  'macast',\n",
       "  'macode']}"
      ]
     },
     "execution_count": 109,
     "metadata": {},
     "output_type": "execute_result"
    }
   ],
   "source": [
    "def load_oe(file = 'oe.lemmas'):\n",
    "    def make(s):\n",
    "        a = s.split()\n",
    "        return {\n",
    "            \"file\": file,\n",
    "            \"lemma\": a[0],\n",
    "            \"forms\": a[1:]\n",
    "        }\n",
    "    with open(path_data + file,'r') as f:\n",
    "        arr = f.read().split('\\n')\n",
    "        return [make(s) for s in arr if s not in ['', '&\\t&']]\n",
    "load_oe()[0]"
   ]
  },
  {
   "cell_type": "code",
   "execution_count": 100,
   "metadata": {
    "collapsed": true,
    "jupyter": {
     "outputs_hidden": true
    }
   },
   "outputs": [
    {
     "data": {
      "text/plain": [
       "[{'file': 'ang.txt',\n",
       "  'lemma': 'feohtan',\n",
       "  'forms': ['feohtan',\n",
       "   'feohtende',\n",
       "   'fuhte',\n",
       "   'fohten',\n",
       "   'fuhten',\n",
       "   'feohte',\n",
       "   'feohten',\n",
       "   'fuhton',\n",
       "   'fiehtst',\n",
       "   'feohte',\n",
       "   'feohtaþ',\n",
       "   'feoht',\n",
       "   'feohte',\n",
       "   'feaht',\n",
       "   'feohtaþ',\n",
       "   'feaht',\n",
       "   'fieht',\n",
       "   'tō',\n",
       "   'fuhte']},\n",
       " {'file': 'ang.txt',\n",
       "  'lemma': 'feolan',\n",
       "  'forms': ['fēolan',\n",
       "   'fēolende',\n",
       "   'fulge',\n",
       "   'folgen',\n",
       "   'ġefolgen',\n",
       "   'fulgen',\n",
       "   'fēole',\n",
       "   'fēolen',\n",
       "   'fulgon',\n",
       "   'fīelst',\n",
       "   'fēole',\n",
       "   'fēolaþ',\n",
       "   'fēol',\n",
       "   'fēole',\n",
       "   'fealh',\n",
       "   'fēolaþ',\n",
       "   'fealh',\n",
       "   'fīelþ',\n",
       "   'tō',\n",
       "   'fulge']}]"
      ]
     },
     "execution_count": 100,
     "metadata": {},
     "output_type": "execute_result"
    }
   ],
   "source": [
    "def load_dict(file = 'ang.txt'):\n",
    "    def make(w):\n",
    "        return {\n",
    "            \"file\": file,\n",
    "            \"lemma\": w.split()[0],\n",
    "            \"forms\": [l.split()[1] for l in w.split('\\n')]\n",
    "        }\n",
    "    with open(path_data + file,'r') as f:\n",
    "        arr = f.read().split('\\n\\n')\n",
    "        return [make(w) for w in arr if len(w) != 0]\n",
    "load_dict()[:2]"
   ]
  },
  {
   "cell_type": "code",
   "execution_count": 112,
   "metadata": {},
   "outputs": [],
   "source": [
    "def save_cltk(arr, file='out.txt'):\n",
    "    with open(file, 'w') as f:\n",
    "        for v in arr:\n",
    "            for w in v[\"forms\"]:\n",
    "                s = f'{v[\"lemma\"]}\\t{w}\\n'\n",
    "                f.write(s)\n",
    "            f.write(\"\\n\")\n",
    "save_cltk(load_oe()+load_dict())"
   ]
  },
  {
   "cell_type": "code",
   "execution_count": 102,
   "metadata": {
    "collapsed": true,
    "jupyter": {
     "outputs_hidden": true
    }
   },
   "outputs": [
    {
     "data": {
      "text/plain": [
       "{'file': 'ang.txt',\n",
       " 'lemma': 'feohtan',\n",
       " 'forms': ['feohtan',\n",
       "  'feohtende',\n",
       "  'fuhte',\n",
       "  'fohten',\n",
       "  'fuhten',\n",
       "  'feohte',\n",
       "  'feohten',\n",
       "  'fuhton',\n",
       "  'fiehtst',\n",
       "  'feohte',\n",
       "  'feohtaþ',\n",
       "  'feoht',\n",
       "  'feohte',\n",
       "  'feaht',\n",
       "  'feohtaþ',\n",
       "  'feaht',\n",
       "  'fieht',\n",
       "  'tō',\n",
       "  'fuhte']}"
      ]
     },
     "execution_count": 102,
     "metadata": {},
     "output_type": "execute_result"
    }
   ],
   "source": [
    "def merge_array(base, add):\n",
    "    def to_set(arr):\n",
    "        return set(e[\"lemma\"] for e in arr)\n",
    "    diff = to_set(add).difference(to_set(base))\n",
    "    diff_arr = [v for v in add if v[\"lemma\"] in diff]\n",
    "    return base + diff_arr\n",
    "merge_array(load_dict(), load_oe())[0]"
   ]
  },
  {
   "cell_type": "code",
   "execution_count": 105,
   "metadata": {},
   "outputs": [
    {
     "data": {
      "text/plain": [
       "[{'file': 'oe.lemmas', 'lemma': '&', 'forms': ['&']},\n",
       " {'file': 'ang.txt',\n",
       "  'lemma': 'Bryttas',\n",
       "  'forms': ['Bryttas', 'Brytta', 'Bryttas', 'Bryttum']},\n",
       " {'file': 'ang.txt',\n",
       "  'lemma': 'Crist',\n",
       "  'forms': ['Cristes', 'Crist', 'Criste', 'Crist']},\n",
       " {'file': 'ang.txt',\n",
       "  'lemma': 'Dene',\n",
       "  'forms': ['Dene', 'Dena', 'Dene', 'Denum']}]"
      ]
     },
     "execution_count": 105,
     "metadata": {},
     "output_type": "execute_result"
    }
   ],
   "source": [
    "def sort_dict(arr):\n",
    "    def get_key(v):\n",
    "        return v[\"lemma\"]\n",
    "    arr.sort(key=get_key)\n",
    "    return arr\n",
    "sort_dict(merge_array(load_dict(), load_oe()))[:4]"
   ]
  }
 ],
 "metadata": {
  "kernelspec": {
   "display_name": "Python 3",
   "language": "python",
   "name": "python3"
  },
  "language_info": {
   "codemirror_mode": {
    "name": "ipython",
    "version": 3
   },
   "file_extension": ".py",
   "mimetype": "text/x-python",
   "name": "python",
   "nbconvert_exporter": "python",
   "pygments_lexer": "ipython3",
   "version": "3.7.3"
  }
 },
 "nbformat": 4,
 "nbformat_minor": 4
}
