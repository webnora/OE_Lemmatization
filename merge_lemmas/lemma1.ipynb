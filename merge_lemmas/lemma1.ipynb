{
 "cells": [
  {
   "cell_type": "code",
   "execution_count": 79,
   "metadata": {},
   "outputs": [],
   "source": [
    "import os\n",
    "path_data = '../../data/'"
   ]
  },
  {
   "cell_type": "code",
   "execution_count": 123,
   "metadata": {},
   "outputs": [],
   "source": [
    "def normalize(s):\n",
    "    for v in [('ġ', 'g'), ('ƿ', 'w'), ('ċ', 'с')]:\n",
    "        s = s.replace(v[0], v[1]) \n",
    "    return s"
   ]
  },
  {
   "cell_type": "code",
   "execution_count": 146,
   "metadata": {},
   "outputs": [],
   "source": [
    "def filter_forms(arr):\n",
    "    return sorted(set(v for v in arr if v not in ['tō']))"
   ]
  },
  {
   "cell_type": "code",
   "execution_count": 134,
   "metadata": {
    "collapsed": true,
    "jupyter": {
     "outputs_hidden": true
    }
   },
   "outputs": [
    {
     "data": {
      "text/plain": [
       "{'file': 'oe.lemmas',\n",
       " 'lemma': 'macian',\n",
       " 'forms': {'gemacod,macod',\n",
       "  'maca',\n",
       "  'macast',\n",
       "  'macaþ',\n",
       "  'macian',\n",
       "  'maciaþ,macigaþ',\n",
       "  'macie,macige',\n",
       "  'macien,macigen',\n",
       "  'maciende,macigende',\n",
       "  'macienne',\n",
       "  'macode',\n",
       "  'macoden',\n",
       "  'macodest',\n",
       "  'macodon'}}"
      ]
     },
     "execution_count": 134,
     "metadata": {},
     "output_type": "execute_result"
    }
   ],
   "source": [
    "def load_oe(file = 'oe.lemmas'):\n",
    "    def make(s):\n",
    "        a = s.split()\n",
    "        return {\n",
    "            \"file\": file,\n",
    "            \"lemma\": a[0],\n",
    "            \"forms\": filter_forms(a[1:])\n",
    "        }\n",
    "    with open(path_data + file,'r') as f:\n",
    "        arr = normalize(f.read()).split('\\n')\n",
    "        return [make(s) for s in arr if s not in ['', '&\\t&']]\n",
    "load_oe()[0]"
   ]
  },
  {
   "cell_type": "code",
   "execution_count": 102,
   "metadata": {},
   "outputs": [
    {
     "data": {
      "text/plain": [
       "{'file': 'ang.txt',\n",
       " 'lemma': 'feohtan',\n",
       " 'forms': ['feohtan',\n",
       "  'feohtende',\n",
       "  'fuhte',\n",
       "  'fohten',\n",
       "  'fuhten',\n",
       "  'feohte',\n",
       "  'feohten',\n",
       "  'fuhton',\n",
       "  'fiehtst',\n",
       "  'feohte',\n",
       "  'feohtaþ',\n",
       "  'feoht',\n",
       "  'feohte',\n",
       "  'feaht',\n",
       "  'feohtaþ',\n",
       "  'feaht',\n",
       "  'fieht',\n",
       "  'tō',\n",
       "  'fuhte']}"
      ]
     },
     "execution_count": 102,
     "metadata": {},
     "output_type": "execute_result"
    }
   ],
   "source": [
    "def merge_array(base, add):\n",
    "    def to_set(arr):\n",
    "        return set(e[\"lemma\"] for e in arr)\n",
    "    diff = to_set(add).difference(to_set(base))\n",
    "    diff_arr = [v for v in add if v[\"lemma\"] in diff]\n",
    "    return base + diff_arr\n",
    "merge_array(load_dict(), load_oe())[0]"
   ]
  },
  {
   "cell_type": "code",
   "execution_count": 135,
   "metadata": {
    "collapsed": true,
    "jupyter": {
     "outputs_hidden": true
    }
   },
   "outputs": [
    {
     "data": {
      "text/plain": [
       "{'file': 'ang.txt',\n",
       " 'lemma': 'feohtan',\n",
       " 'forms': {'feaht',\n",
       "  'feoht',\n",
       "  'feohtan',\n",
       "  'feohtaþ',\n",
       "  'feohte',\n",
       "  'feohten',\n",
       "  'feohtende',\n",
       "  'fieht',\n",
       "  'fiehtst',\n",
       "  'fohten',\n",
       "  'fuhte',\n",
       "  'fuhten',\n",
       "  'fuhton',\n",
       "  'tō'}}"
      ]
     },
     "execution_count": 135,
     "metadata": {},
     "output_type": "execute_result"
    }
   ],
   "source": [
    "def load_dict(file = 'ang.txt'):\n",
    "    def make(w):\n",
    "        return {\n",
    "            \"file\": file,\n",
    "            \"lemma\": w.split()[0],\n",
    "            \"forms\": filter_forms([l.split()[1] for l in w.split('\\n')])\n",
    "        }\n",
    "    with open(path_data + file,'r') as f:\n",
    "        arr = normalize(f.read()).split('\\n\\n')\n",
    "        return [make(w) for w in arr if len(w) != 0]\n",
    "load_dict()[0]"
   ]
  },
  {
   "cell_type": "code",
   "execution_count": 115,
   "metadata": {
    "collapsed": true,
    "jupyter": {
     "outputs_hidden": true
    }
   },
   "outputs": [
    {
     "data": {
      "text/plain": [
       "['Bryttas',\n",
       " 'Crist',\n",
       " 'Dene',\n",
       " 'Engle',\n",
       " 'Englisc',\n",
       " 'Nazarenisc',\n",
       " 'Seaxisc',\n",
       " 'Wendlas',\n",
       " 'a',\n",
       " 'abarimathia']"
      ]
     },
     "execution_count": 115,
     "metadata": {},
     "output_type": "execute_result"
    }
   ],
   "source": [
    "def sort_dict(arr):\n",
    "    def get_key(v):\n",
    "        return v[\"lemma\"]\n",
    "    arr.sort(key=get_key)\n",
    "    return arr\n",
    "[v['lemma'] for v in sort_dict(merge_array(load_dict(), load_oe()))[:10]]"
   ]
  },
  {
   "cell_type": "code",
   "execution_count": 130,
   "metadata": {},
   "outputs": [
    {
     "data": {
      "text/plain": [
       "{'file': 'ang.txt',\n",
       " 'lemma': 'Bryttas',\n",
       " 'forms': ['Bryttas', 'Brytta', 'Bryttas', 'Bryttum']}"
      ]
     },
     "execution_count": 130,
     "metadata": {},
     "output_type": "execute_result"
    }
   ],
   "source": [
    "def get_all():\n",
    "    return sort_dict(merge_array(load_dict(), load_oe()))\n",
    "get_all()[0]"
   ]
  },
  {
   "cell_type": "code",
   "execution_count": 147,
   "metadata": {},
   "outputs": [],
   "source": [
    "def save_cltk(arr, file='out.txt'):\n",
    "    with open(file, 'w') as f:\n",
    "        for v in arr:\n",
    "            for w in v[\"forms\"]:\n",
    "                s = f'{v[\"lemma\"]}\\t{w}\\n'\n",
    "                f.write(s)\n",
    "            f.write(\"\\n\")\n",
    "# save_cltk(load_oe()+load_dict())\n",
    "save_cltk(get_all())"
   ]
  },
  {
   "cell_type": "code",
   "execution_count": 141,
   "metadata": {},
   "outputs": [
    {
     "data": {
      "text/plain": [
       "[1, 2]"
      ]
     },
     "execution_count": 141,
     "metadata": {},
     "output_type": "execute_result"
    }
   ],
   "source": [
    "sorted(set((2,1)))"
   ]
  },
  {
   "cell_type": "code",
   "execution_count": null,
   "metadata": {},
   "outputs": [],
   "source": []
  }
 ],
 "metadata": {
  "kernelspec": {
   "display_name": "Python 3",
   "language": "python",
   "name": "python3"
  },
  "language_info": {
   "codemirror_mode": {
    "name": "ipython",
    "version": 3
   },
   "file_extension": ".py",
   "mimetype": "text/x-python",
   "name": "python",
   "nbconvert_exporter": "python",
   "pygments_lexer": "ipython3",
   "version": "3.8.4"
  }
 },
 "nbformat": 4,
 "nbformat_minor": 4
}
