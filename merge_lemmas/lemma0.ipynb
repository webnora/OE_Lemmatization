{
 "cells": [
  {
   "cell_type": "code",
   "execution_count": 2,
   "metadata": {},
   "outputs": [],
   "source": [
    "import os\n",
    "path_data = '../../data/'"
   ]
  },
  {
   "cell_type": "code",
   "execution_count": 5,
   "metadata": {},
   "outputs": [],
   "source": [
    "f1, f2 = [], []\n",
    "with open(path_data + 'oe.lemmas','r') as f:\n",
    "    f1 = f.read().split('\\n')\n",
    "with open(path_data + 'ang.txt','r') as f:\n",
    "    f2 = f.read().split('\\n\\n')"
   ]
  },
  {
   "cell_type": "code",
   "execution_count": 6,
   "metadata": {},
   "outputs": [],
   "source": [
    "def get_cltk(s):\n",
    "    a = s.split()\n",
    "    return a[0], a[1:]\n",
    "# get_cltk(f1[0])"
   ]
  },
  {
   "cell_type": "code",
   "execution_count": 7,
   "metadata": {},
   "outputs": [],
   "source": [
    "a1 = [get_cltk(s) for s in f1 if not s == '']\n",
    "# len(a1), a1[0]"
   ]
  },
  {
   "cell_type": "code",
   "execution_count": 8,
   "metadata": {},
   "outputs": [],
   "source": [
    "a2 = [(w.split()[0], [l.split()[1] for l in w.split('\\n')]) for w in f2 if len(w) != 0]\n",
    "# len(a2), a2[0]"
   ]
  },
  {
   "cell_type": "code",
   "execution_count": 9,
   "metadata": {},
   "outputs": [
    {
     "data": {
      "text/plain": [
       "(6500, 6497, 1887, 1867)"
      ]
     },
     "execution_count": 9,
     "metadata": {},
     "output_type": "execute_result"
    }
   ],
   "source": [
    "a1_set = set(e[0] for e in a1)\n",
    "a2_set = set(e[0] for e in a2)\n",
    "len(a1), len(a1_set), len(a2), len(a2_set)"
   ]
  },
  {
   "cell_type": "code",
   "execution_count": 10,
   "metadata": {},
   "outputs": [
    {
     "data": {
      "text/plain": [
       "(4744, 4747)"
      ]
     },
     "execution_count": 10,
     "metadata": {},
     "output_type": "execute_result"
    }
   ],
   "source": [
    "a3_set = a1_set.difference(a2_set)\n",
    "a3 = [v for v in a1 if v[0] in a3_set]\n",
    "len(a3_set), len(a3)"
   ]
  },
  {
   "cell_type": "code",
   "execution_count": 11,
   "metadata": {},
   "outputs": [
    {
     "data": {
      "text/plain": [
       "6634"
      ]
     },
     "execution_count": 11,
     "metadata": {},
     "output_type": "execute_result"
    }
   ],
   "source": [
    "a4 = a2 + a3\n",
    "len(a4)"
   ]
  },
  {
   "cell_type": "code",
   "execution_count": 12,
   "metadata": {},
   "outputs": [],
   "source": [
    "with open('a4.txt', 'w') as f:\n",
    "    for v in a4:\n",
    "        for w in v[1]:\n",
    "            s = f'{v[0]}\\t{w}\\n'\n",
    "            f.write(s)\n",
    "        f.write(\"\\n\")"
   ]
  }
 ],
 "metadata": {
  "kernelspec": {
   "display_name": "Python 3",
   "language": "python",
   "name": "python3"
  },
  "language_info": {
   "codemirror_mode": {
    "name": "ipython",
    "version": 3
   },
   "file_extension": ".py",
   "mimetype": "text/x-python",
   "name": "python",
   "nbconvert_exporter": "python",
   "pygments_lexer": "ipython3",
   "version": "3.8.4"
  }
 },
 "nbformat": 4,
 "nbformat_minor": 4
}
