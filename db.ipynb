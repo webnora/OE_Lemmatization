{
 "cells": [
  {
   "cell_type": "code",
   "execution_count": 1,
   "metadata": {},
   "outputs": [],
   "source": [
    "from pandas import DataFrame as df\n",
    "from db import DB, Corpus, Doc, Line, Form, Predict, Lemma, LemmaRaw\n",
    "from sqlalchemy import text\n",
    "# from sqlmodel import select"
   ]
  },
  {
   "cell_type": "code",
   "execution_count": 19,
   "metadata": {},
   "outputs": [
    {
     "name": "stdout",
     "output_type": "stream",
     "text": [
      "1: corpus\n",
      "5: doc\n",
      "2541: line\n",
      "28300: form\n",
      "55: predict\n",
      "55: predictraw\n",
      "319: lemma\n",
      "319: lemmaraw\n"
     ]
    }
   ],
   "source": [
    "db = DB()\n",
    "s = db.s\n",
    "\n",
    "# db.init()\n",
    "# db.add_test()\n",
    "db.stat()\n"
   ]
  },
  {
   "cell_type": "code",
   "execution_count": 3,
   "metadata": {},
   "outputs": [
    {
     "name": "stdout",
     "output_type": "stream",
     "text": [
      "   id        doc corpus\n",
      "0   0  forms.txt  iswoc\n",
      "   corpus_id  doc_id  id               line             lemmas\n",
      "0          0       0   0  Mæg gehyran se ðe  mag gehyran se þe\n",
      "   corpus_id  doc_id  line_id  id form lemma\n",
      "0          0       0        0   0  Mæg   mag\n",
      "1          0       0        0   3   ðe    þe\n",
      "   corpus_id  doc_id  line_id  id       model  done  no_eq  \\\n",
      "0          0       0        0   1  mistral:7b  True      0   \n",
      "\n",
      "                          at  load_duration  prompt_eval_duration  \\\n",
      "0 2025-01-03 10:23:28.830015       21163667             261000000   \n",
      "\n",
      "   eval_duration  prompt_tokens  completion_tokens  temperature  \n",
      "0      551000000             30                 31          0.0  \n",
      "   corpus_id  doc_id  line_id  form_id  predict_id lemma    eq\n",
      "0          0       0        0        0           1   mag  True\n",
      "   corpus_id  doc_id  line_id  form_id  predict_id   en     ru    morph  \\\n",
      "0          0       0        0        0           1  can  может  pronoun   \n",
      "\n",
      "    syntax                                                raw  \n",
      "0  subject  {'word_form': 'Mæg', 'lemma': 'mag', 'translat...  \n"
     ]
    },
    {
     "data": {
      "text/plain": [
       "{'word_form': 'Mæg',\n",
       " 'lemma': 'mag',\n",
       " 'translation_en': 'can',\n",
       " 'translation_ru': 'может',\n",
       " 'morph_analysis': 'pronoun, 3rd person singular present subjunctive of magan (can)',\n",
       " 'syntax_analysis': 'subject'}"
      ]
     },
     "execution_count": 3,
     "metadata": {},
     "output_type": "execute_result"
    }
   ],
   "source": [
    "# print(db.df(Corpus))\n",
    "# print(db.df())\n",
    "print(df(db.get_doc()))\n",
    "print(db.df(Line))\n",
    "print(db.df(Form))\n",
    "print(db.df(Predict))\n",
    "print(db.df(Lemma))\n",
    "print(db.df(LemmaRaw))\n",
    "db.get_lemma()"
   ]
  },
  {
   "cell_type": "code",
   "execution_count": 4,
   "metadata": {},
   "outputs": [
    {
     "data": {
      "text/html": [
       "<div>\n",
       "<style scoped>\n",
       "    .dataframe tbody tr th:only-of-type {\n",
       "        vertical-align: middle;\n",
       "    }\n",
       "\n",
       "    .dataframe tbody tr th {\n",
       "        vertical-align: top;\n",
       "    }\n",
       "\n",
       "    .dataframe thead th {\n",
       "        text-align: right;\n",
       "    }\n",
       "</style>\n",
       "<table border=\"1\" class=\"dataframe\">\n",
       "  <thead>\n",
       "    <tr style=\"text-align: right;\">\n",
       "      <th></th>\n",
       "      <th>corpus_id</th>\n",
       "      <th>doc_id</th>\n",
       "      <th>line_id</th>\n",
       "      <th>id</th>\n",
       "      <th>form</th>\n",
       "      <th>lemma</th>\n",
       "    </tr>\n",
       "  </thead>\n",
       "  <tbody>\n",
       "    <tr>\n",
       "      <th>0</th>\n",
       "      <td>0</td>\n",
       "      <td>0</td>\n",
       "      <td>0</td>\n",
       "      <td>0</td>\n",
       "      <td>Mæg</td>\n",
       "      <td>mag</td>\n",
       "    </tr>\n",
       "    <tr>\n",
       "      <th>1</th>\n",
       "      <td>0</td>\n",
       "      <td>0</td>\n",
       "      <td>0</td>\n",
       "      <td>3</td>\n",
       "      <td>ðe</td>\n",
       "      <td>þe</td>\n",
       "    </tr>\n",
       "  </tbody>\n",
       "</table>\n",
       "</div>"
      ],
      "text/plain": [
       "   corpus_id  doc_id  line_id  id form lemma\n",
       "0          0       0        0   0  Mæg   mag\n",
       "1          0       0        0   3   ðe    þe"
      ]
     },
     "execution_count": 4,
     "metadata": {},
     "output_type": "execute_result"
    }
   ],
   "source": [
    "db.df(Form)"
   ]
  },
  {
   "cell_type": "code",
   "execution_count": 5,
   "metadata": {},
   "outputs": [
    {
     "data": {
      "text/html": [
       "<div>\n",
       "<style scoped>\n",
       "    .dataframe tbody tr th:only-of-type {\n",
       "        vertical-align: middle;\n",
       "    }\n",
       "\n",
       "    .dataframe tbody tr th {\n",
       "        vertical-align: top;\n",
       "    }\n",
       "\n",
       "    .dataframe thead th {\n",
       "        text-align: right;\n",
       "    }\n",
       "</style>\n",
       "<table border=\"1\" class=\"dataframe\">\n",
       "  <thead>\n",
       "    <tr style=\"text-align: right;\">\n",
       "      <th></th>\n",
       "      <th>corpus_id</th>\n",
       "      <th>doc_id</th>\n",
       "      <th>line_id</th>\n",
       "      <th>id</th>\n",
       "      <th>form</th>\n",
       "      <th>lemma</th>\n",
       "    </tr>\n",
       "  </thead>\n",
       "  <tbody>\n",
       "    <tr>\n",
       "      <th>0</th>\n",
       "      <td>0</td>\n",
       "      <td>0</td>\n",
       "      <td>0</td>\n",
       "      <td>0</td>\n",
       "      <td>Mæg</td>\n",
       "      <td>mag</td>\n",
       "    </tr>\n",
       "    <tr>\n",
       "      <th>1</th>\n",
       "      <td>0</td>\n",
       "      <td>0</td>\n",
       "      <td>0</td>\n",
       "      <td>3</td>\n",
       "      <td>ðe</td>\n",
       "      <td>þe</td>\n",
       "    </tr>\n",
       "  </tbody>\n",
       "</table>\n",
       "</div>"
      ],
      "text/plain": [
       "   corpus_id  doc_id  line_id  id form lemma\n",
       "0          0       0        0   0  Mæg   mag\n",
       "1          0       0        0   3   ðe    þe"
      ]
     },
     "execution_count": 5,
     "metadata": {},
     "output_type": "execute_result"
    }
   ],
   "source": [
    "df(s.exec(text(\"SELECT * FROM Form\")).all()) # type: ignore"
   ]
  },
  {
   "cell_type": "code",
   "execution_count": 11,
   "metadata": {},
   "outputs": [
    {
     "data": {
      "text/plain": [
       "Line(doc_id=2, num=44, lemmas='Apollonius cweþan', id=244, line='Apollonius cwæð')"
      ]
     },
     "execution_count": 11,
     "metadata": {},
     "output_type": "execute_result"
    }
   ],
   "source": [
    "line = db.get_test_line()\n",
    "line"
   ]
  },
  {
   "cell_type": "code",
   "execution_count": 13,
   "metadata": {},
   "outputs": [
    {
     "data": {
      "text/plain": [
       "2"
      ]
     },
     "execution_count": 13,
     "metadata": {},
     "output_type": "execute_result"
    }
   ],
   "source": [
    "len(line.forms)"
   ]
  },
  {
   "cell_type": "code",
   "execution_count": 8,
   "metadata": {},
   "outputs": [
    {
     "data": {
      "text/html": [
       "<div>\n",
       "<style scoped>\n",
       "    .dataframe tbody tr th:only-of-type {\n",
       "        vertical-align: middle;\n",
       "    }\n",
       "\n",
       "    .dataframe tbody tr th {\n",
       "        vertical-align: top;\n",
       "    }\n",
       "\n",
       "    .dataframe thead th {\n",
       "        text-align: right;\n",
       "    }\n",
       "</style>\n",
       "<table border=\"1\" class=\"dataframe\">\n",
       "  <thead>\n",
       "    <tr style=\"text-align: right;\">\n",
       "      <th></th>\n",
       "      <th>id</th>\n",
       "      <th>line_id</th>\n",
       "      <th>model</th>\n",
       "      <th>done</th>\n",
       "      <th>no_eq</th>\n",
       "      <th>at</th>\n",
       "      <th>load_duration</th>\n",
       "      <th>prompt_eval_duration</th>\n",
       "      <th>eval_duration</th>\n",
       "      <th>prompt_tokens</th>\n",
       "      <th>completion_tokens</th>\n",
       "      <th>temperature</th>\n",
       "    </tr>\n",
       "  </thead>\n",
       "  <tbody>\n",
       "    <tr>\n",
       "      <th>0</th>\n",
       "      <td>1</td>\n",
       "      <td>1</td>\n",
       "      <td>mistral:7b</td>\n",
       "      <td>True</td>\n",
       "      <td>0</td>\n",
       "      <td>2025-01-03 10:23:28.830015</td>\n",
       "      <td>21163667</td>\n",
       "      <td>261000000</td>\n",
       "      <td>551000000</td>\n",
       "      <td>30</td>\n",
       "      <td>31</td>\n",
       "      <td>0.0</td>\n",
       "    </tr>\n",
       "  </tbody>\n",
       "</table>\n",
       "</div>"
      ],
      "text/plain": [
       "   id  line_id       model  done  no_eq                         at  \\\n",
       "0   1        1  mistral:7b  True      0 2025-01-03 10:23:28.830015   \n",
       "\n",
       "   load_duration  prompt_eval_duration  eval_duration  prompt_tokens  \\\n",
       "0       21163667             261000000      551000000             30   \n",
       "\n",
       "   completion_tokens  temperature  \n",
       "0                 31          0.0  "
      ]
     },
     "execution_count": 8,
     "metadata": {},
     "output_type": "execute_result"
    }
   ],
   "source": [
    "db.df(Predict)"
   ]
  }
 ],
 "metadata": {
  "kernelspec": {
   "display_name": ".venv",
   "language": "python",
   "name": "python3"
  },
  "language_info": {
   "codemirror_mode": {
    "name": "ipython",
    "version": 3
   },
   "file_extension": ".py",
   "mimetype": "text/x-python",
   "name": "python",
   "nbconvert_exporter": "python",
   "pygments_lexer": "ipython3",
   "version": "3.12.7"
  }
 },
 "nbformat": 4,
 "nbformat_minor": 2
}
