{
 "cells": [
  {
   "cell_type": "code",
   "execution_count": 11,
   "metadata": {},
   "outputs": [],
   "source": [
    "import os\n",
    "from llama_index.llms.ollama import Ollama\n",
    "import json\n",
    "from dataclasses import dataclass, astuple, fields\n",
    "from db import DB, Corpus, Doc, Line, Form, Predict, Lemma, LemmaRaw\n",
    "from pandas import DataFrame as df"
   ]
  },
  {
   "cell_type": "code",
   "execution_count": 2,
   "metadata": {},
   "outputs": [
    {
     "name": "stdout",
     "output_type": "stream",
     "text": [
      "('llama3.2:1b', 'llama3.2:3b', 'llama3.1:8b', 'llama3.3:10b', 'mistral:7b', 'mistral-nemo:12b', 'mistral-small:22b')\n",
      "['llama3.2:1b', 'llama3.2:3b', 'llama3.1:8b', 'llama3.3:10b', 'mistral:7b', 'mistral-nemo:12b', 'mistral-small:22b']\n"
     ]
    }
   ],
   "source": [
    "@dataclass\n",
    "class Model:\n",
    "  llama_1b   : str = \"llama3.2:1b\"\n",
    "  llama_3b   : str = \"llama3.2:3b\"\n",
    "  llama_8b   : str = \"llama3.1:8b\"\n",
    "  llama_70b  : str = \"llama3.3:10b\"\n",
    "  mistral_7b : str = \"mistral:7b\"\n",
    "  mistral_12b: str = \"mistral-nemo:12b\"\n",
    "  mistral_22b: str = \"mistral-small:22b\"\n",
    "\n",
    "print(astuple(Model()))\n",
    "print([f.default for f in fields(Model)])"
   ]
  },
  {
   "cell_type": "code",
   "execution_count": null,
   "metadata": {},
   "outputs": [
    {
     "data": {
      "text/plain": [
       "[{'word_form': 'Mæg',\n",
       "  'lemma': 'magan',\n",
       "  'translation_en': 'can, may',\n",
       "  'translation_ru': 'может, може',\n",
       "  'morph_analysis': 'pronoun, 3rd person singular present subjunctive of magan',\n",
       "  'syntax_analysis': 'subject'},\n",
       " {'word_form': 'gehyran',\n",
       "  'lemma': 'gehyran',\n",
       "  'translation_en': 'hear, listen',\n",
       "  'translation_ru': 'слушать',\n",
       "  'morph_analysis': 'verb, 3rd person singular present indicative of gehyran',\n",
       "  'syntax_analysis': 'object'}]"
      ]
     },
     "execution_count": 13,
     "metadata": {},
     "output_type": "execute_result"
    }
   ],
   "source": [
    "class LLM:\n",
    "  temperature = 0.0\n",
    "  request_timeout = 3600.0\n",
    "  query = \"Сколько букв в слове привет? Выведи каждую букву отдельно.\"\n",
    "  text = (\n",
    "    # 'Mæg gehyran'\n",
    "    'Mæg gehyran se ðe wyle be þam halgan mædene Eugenian Philyppus dæhter hu heo ðurh mægðhad mærlice þeah and þurh martyrdom þisne middaneard oferswað\\n'\n",
    "    'Sum æþelboren þægn wæs Philippus gehaten ðone asende se casere Commodus þe on ðam dagum rixode fram Rome.byrig to ðære byrig ðe is gehaten Alexandria'\n",
    "  )\n",
    "  path_example = 'd/llm/examples'\n",
    "\n",
    "  def __init__(self, path=path_example, **kwargs):\n",
    "    defaults = {\n",
    "        \"model\": Model.mistral_7b,\n",
    "        \"temperature\": 0.0,\n",
    "        \"request_timeout\": 3600.0\n",
    "    }\n",
    "    self.llm = Ollama(**{**defaults, **kwargs})\n",
    "    self.path = f'{path}/{self.llm.model}'\n",
    "    if not os.path.exists(self.path):\n",
    "      os.makedirs(self.path)\n",
    "\n",
    "  def complete(self, query=query):\n",
    "    self.response = self.llm.complete(query)\n",
    "    with open(f'{self.path}/raw.json', 'w') as f:\n",
    "      f.write(self.response.model_dump_json(indent=2))\n",
    "    return self.response\n",
    "\n",
    "  def debug(self):\n",
    "    print(self.response.text)\n",
    "    print()\n",
    "    print(self.response.raw)\n",
    "\n",
    "  def lemmatize_old_english(self, text=text):\n",
    "      prompt = f\"\"\"\n",
    "      Perform lemmatization of the following Old English text:\n",
    "      {text}\n",
    "\n",
    "      Return the result as a JSON array where each item contains:\n",
    "      - word_form: the original word form\n",
    "      - lemma: the lemma of the word\n",
    "      - translation_en: the English translation of the lemma\n",
    "      - translation_ru: the Russian translation of the lemma\n",
    "      - morph_analysis: morphological analysis\n",
    "      - syntax_analysis: syntactic analysis\n",
    "      The result should be just json without formatting and text descriptions.\n",
    "      \"\"\"\n",
    "      self.json = json.loads(self.complete(prompt).text)\n",
    "      with open(f'{self.path}/data.json', 'w') as f:\n",
    "        json.dump(self.json, f, indent=2, ensure_ascii=False)\n",
    "      return self.json\n",
    "  \n",
    "llm = LLM()\n",
    "# llm.complete()\n",
    "# llm.debug()\n",
    "llm.lemmatize_old_english()"
   ]
  },
  {
   "cell_type": "code",
   "execution_count": 4,
   "metadata": {},
   "outputs": [
    {
     "name": "stdout",
     "output_type": "stream",
     "text": [
      " В слове \"привет\" - пять букв.\n",
      "\n",
      "{'model': 'mistral:7b', 'created_at': '2025-01-10T04:44:14.380616Z', 'done': True, 'done_reason': 'stop', 'total_duration': 453208458, 'load_duration': 3639416, 'prompt_eval_count': 17, 'prompt_eval_duration': 169000000, 'eval_count': 16, 'eval_duration': 279000000, 'message': Message(role='assistant', content='', images=None, tool_calls=None), 'usage': {'prompt_tokens': 17, 'completion_tokens': 16, 'total_tokens': 33}}\n"
     ]
    }
   ],
   "source": [
    "class LLM_Stream(LLM):\n",
    "  def stream_complete(self, query = LLM.query):\n",
    "    for response in self.llm.stream_complete(query):\n",
    "      print(response, end=\"\\r\")\n",
    "    self.response = response\n",
    "    return response\n",
    "\n",
    "llm_stream = LLM_Stream()\n",
    "llm_stream.stream_complete(\"Сколько букв в слове привет?\")\n",
    "# llm_stream.stream_complete(\"Напиши длинное стихотворение\")\n",
    "llm_stream.debug()"
   ]
  },
  {
   "cell_type": "code",
   "execution_count": 5,
   "metadata": {},
   "outputs": [
    {
     "data": {
      "text/html": [
       "<div>\n",
       "<style scoped>\n",
       "    .dataframe tbody tr th:only-of-type {\n",
       "        vertical-align: middle;\n",
       "    }\n",
       "\n",
       "    .dataframe tbody tr th {\n",
       "        vertical-align: top;\n",
       "    }\n",
       "\n",
       "    .dataframe thead th {\n",
       "        text-align: right;\n",
       "    }\n",
       "</style>\n",
       "<table border=\"1\" class=\"dataframe\">\n",
       "  <thead>\n",
       "    <tr style=\"text-align: right;\">\n",
       "      <th></th>\n",
       "      <th>id</th>\n",
       "      <th>doc</th>\n",
       "      <th>corpus</th>\n",
       "    </tr>\n",
       "  </thead>\n",
       "  <tbody>\n",
       "    <tr>\n",
       "      <th>0</th>\n",
       "      <td>1</td>\n",
       "      <td>æls.conll</td>\n",
       "      <td>iswoc</td>\n",
       "    </tr>\n",
       "    <tr>\n",
       "      <th>1</th>\n",
       "      <td>2</td>\n",
       "      <td>apt.conll</td>\n",
       "      <td>iswoc</td>\n",
       "    </tr>\n",
       "    <tr>\n",
       "      <th>2</th>\n",
       "      <td>3</td>\n",
       "      <td>chrona.conll</td>\n",
       "      <td>iswoc</td>\n",
       "    </tr>\n",
       "    <tr>\n",
       "      <th>3</th>\n",
       "      <td>4</td>\n",
       "      <td>or.conll</td>\n",
       "      <td>iswoc</td>\n",
       "    </tr>\n",
       "    <tr>\n",
       "      <th>4</th>\n",
       "      <td>5</td>\n",
       "      <td>wscp.conll</td>\n",
       "      <td>iswoc</td>\n",
       "    </tr>\n",
       "  </tbody>\n",
       "</table>\n",
       "</div>"
      ],
      "text/plain": [
       "   id           doc corpus\n",
       "0   1     æls.conll  iswoc\n",
       "1   2     apt.conll  iswoc\n",
       "2   3  chrona.conll  iswoc\n",
       "3   4      or.conll  iswoc\n",
       "4   5    wscp.conll  iswoc"
      ]
     },
     "execution_count": 5,
     "metadata": {},
     "output_type": "execute_result"
    }
   ],
   "source": [
    "db = DB()\n",
    "# db.init()\n",
    "df(db.get_doc())"
   ]
  },
  {
   "cell_type": "code",
   "execution_count": 10,
   "metadata": {},
   "outputs": [
    {
     "data": {
      "text/html": [
       "<div>\n",
       "<style scoped>\n",
       "    .dataframe tbody tr th:only-of-type {\n",
       "        vertical-align: middle;\n",
       "    }\n",
       "\n",
       "    .dataframe tbody tr th {\n",
       "        vertical-align: top;\n",
       "    }\n",
       "\n",
       "    .dataframe thead th {\n",
       "        text-align: right;\n",
       "    }\n",
       "</style>\n",
       "<table border=\"1\" class=\"dataframe\">\n",
       "  <thead>\n",
       "    <tr style=\"text-align: right;\">\n",
       "      <th></th>\n",
       "      <th>id</th>\n",
       "      <th>doc_id</th>\n",
       "      <th>num</th>\n",
       "      <th>line</th>\n",
       "      <th>lemmas</th>\n",
       "    </tr>\n",
       "  </thead>\n",
       "  <tbody>\n",
       "    <tr>\n",
       "      <th>0</th>\n",
       "      <td>1</td>\n",
       "      <td>1</td>\n",
       "      <td>0</td>\n",
       "      <td>Mæg gehyran se ðe wyle be þam halgan mædene Eu...</td>\n",
       "      <td>mag gehyran se þe willan be se halig mægden Eu...</td>\n",
       "    </tr>\n",
       "    <tr>\n",
       "      <th>1</th>\n",
       "      <td>2</td>\n",
       "      <td>1</td>\n",
       "      <td>1</td>\n",
       "      <td>Sum æþelboren þægn wæs Philippus gehaten ðone ...</td>\n",
       "      <td>sum æþelboren þegen wesan Philippus gehatan se...</td>\n",
       "    </tr>\n",
       "  </tbody>\n",
       "</table>\n",
       "</div>"
      ],
      "text/plain": [
       "   id  doc_id  num                                               line  \\\n",
       "0   1       1    0  Mæg gehyran se ðe wyle be þam halgan mædene Eu...   \n",
       "1   2       1    1  Sum æþelboren þægn wæs Philippus gehaten ðone ...   \n",
       "\n",
       "                                              lemmas  \n",
       "0  mag gehyran se þe willan be se halig mægden Eu...  \n",
       "1  sum æþelboren þegen wesan Philippus gehatan se...  "
      ]
     },
     "execution_count": 10,
     "metadata": {},
     "output_type": "execute_result"
    }
   ],
   "source": [
    "db.df(Line, 2)"
   ]
  }
 ],
 "metadata": {
  "kernelspec": {
   "display_name": ".venv",
   "language": "python",
   "name": "python3"
  },
  "language_info": {
   "codemirror_mode": {
    "name": "ipython",
    "version": 3
   },
   "file_extension": ".py",
   "mimetype": "text/x-python",
   "name": "python",
   "nbconvert_exporter": "python",
   "pygments_lexer": "ipython3",
   "version": "3.12.7"
  }
 },
 "nbformat": 4,
 "nbformat_minor": 2
}
