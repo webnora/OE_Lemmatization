{
 "cells": [
  {
   "cell_type": "code",
   "execution_count": 1,
   "metadata": {},
   "outputs": [],
   "source": [
    "from llm import LLM, LLM_Stream\n",
    "from db import DB, Corpus, Doc, Line, Form, Predict, PredictRaw, Lemma, LemmaRaw\n",
    "from datetime import datetime\n",
    "from sqlmodel import SQLModel, Field, Relationship, UniqueConstraint, create_engine, Session, select, delete\n"
   ]
  },
  {
   "cell_type": "code",
   "execution_count": 2,
   "metadata": {},
   "outputs": [],
   "source": [
    "llm = LLM()\n",
    "# llm.complete()\n",
    "# llm.debug()"
   ]
  },
  {
   "cell_type": "code",
   "execution_count": 3,
   "metadata": {},
   "outputs": [
    {
     "data": {
      "text/plain": [
       "[{'word_form': 'Apollonius',\n",
       "  'lemma': 'Apollonius',\n",
       "  'translation_en': 'Apollonius',\n",
       "  'translation_ru': 'Аполлоний',\n",
       "  'morph_analysis': '',\n",
       "  'syntax_analysis': 'NOUN, SUBJECT'},\n",
       " {'word_form': 'cwæð',\n",
       "  'lemma': 'cweþan',\n",
       "  'translation_en': 'said',\n",
       "  'translation_ru': 'сказал',\n",
       "  'morph_analysis': 'VERB, PAST, 3SG',\n",
       "  'syntax_analysis': 'VERB, VERB'}]"
      ]
     },
     "execution_count": 3,
     "metadata": {},
     "output_type": "execute_result"
    }
   ],
   "source": [
    "llm.lemmatize(llm.db.get_test_line().line)"
   ]
  },
  {
   "cell_type": "code",
   "execution_count": 4,
   "metadata": {},
   "outputs": [],
   "source": [
    "# llm_stream = LLM_Stream()\n",
    "# llm_stream.stream_complete(\"Напиши короткое стихотворение\")\n",
    "# # llm_stream.debug()"
   ]
  },
  {
   "cell_type": "code",
   "execution_count": 5,
   "metadata": {},
   "outputs": [],
   "source": [
    "# line: Line = db.tbl(Line, 1).one()\n",
    "# line.forms"
   ]
  },
  {
   "cell_type": "code",
   "execution_count": 6,
   "metadata": {},
   "outputs": [
    {
     "data": {
      "text/plain": [
       "'2025-01-11T13:31:06.999206Z'"
      ]
     },
     "execution_count": 6,
     "metadata": {},
     "output_type": "execute_result"
    }
   ],
   "source": [
    "db = llm.db\n",
    "s = db.s\n",
    "line = llm.db.get_test_line()\n",
    "raw = llm.response.raw\n",
    "raw[\"created_at\"]"
   ]
  },
  {
   "cell_type": "code",
   "execution_count": 26,
   "metadata": {},
   "outputs": [
    {
     "name": "stdout",
     "output_type": "stream",
     "text": [
      "1: corpus\n",
      "5: doc\n",
      "2541: line\n",
      "28300: form\n",
      "3: predict\n",
      "3: predictraw\n",
      "6: lemma\n",
      "6: lemmaraw\n"
     ]
    },
    {
     "data": {
      "text/html": [
       "<div>\n",
       "<style scoped>\n",
       "    .dataframe tbody tr th:only-of-type {\n",
       "        vertical-align: middle;\n",
       "    }\n",
       "\n",
       "    .dataframe tbody tr th {\n",
       "        vertical-align: top;\n",
       "    }\n",
       "\n",
       "    .dataframe thead th {\n",
       "        text-align: right;\n",
       "    }\n",
       "</style>\n",
       "<table border=\"1\" class=\"dataframe\">\n",
       "  <thead>\n",
       "    <tr style=\"text-align: right;\">\n",
       "      <th></th>\n",
       "      <th>id</th>\n",
       "      <th>promt</th>\n",
       "      <th>content</th>\n",
       "      <th>forms</th>\n",
       "      <th>lemmas</th>\n",
       "      <th>tool_calls</th>\n",
       "    </tr>\n",
       "  </thead>\n",
       "  <tbody>\n",
       "    <tr>\n",
       "      <th>0</th>\n",
       "      <td>1</td>\n",
       "      <td>bla</td>\n",
       "      <td>[\\n      {\\n        \"word_form\": \"Apollonius\"...</td>\n",
       "      <td>None</td>\n",
       "      <td>None</td>\n",
       "      <td>{}</td>\n",
       "    </tr>\n",
       "    <tr>\n",
       "      <th>1</th>\n",
       "      <td>2</td>\n",
       "      <td>bla</td>\n",
       "      <td>[\\n      {\\n        \"word_form\": \"Apollonius\"...</td>\n",
       "      <td>None</td>\n",
       "      <td>None</td>\n",
       "      <td>{}</td>\n",
       "    </tr>\n",
       "    <tr>\n",
       "      <th>2</th>\n",
       "      <td>3</td>\n",
       "      <td>bla</td>\n",
       "      <td>[\\n      {\\n        \"word_form\": \"Apollonius\"...</td>\n",
       "      <td>None</td>\n",
       "      <td>None</td>\n",
       "      <td>{}</td>\n",
       "    </tr>\n",
       "  </tbody>\n",
       "</table>\n",
       "</div>"
      ],
      "text/plain": [
       "   id promt                                            content forms lemmas  \\\n",
       "0   1   bla   [\\n      {\\n        \"word_form\": \"Apollonius\"...  None   None   \n",
       "1   2   bla   [\\n      {\\n        \"word_form\": \"Apollonius\"...  None   None   \n",
       "2   3   bla   [\\n      {\\n        \"word_form\": \"Apollonius\"...  None   None   \n",
       "\n",
       "  tool_calls  \n",
       "0         {}  \n",
       "1         {}  \n",
       "2         {}  "
      ]
     },
     "execution_count": 26,
     "metadata": {},
     "output_type": "execute_result"
    }
   ],
   "source": [
    "def prediction_save(promt):\n",
    "  model = llm.llm\n",
    "  json = llm.json\n",
    "  response = llm.response\n",
    "  raw = llm.response.raw\n",
    "  prediction = Predict(\n",
    "    line_id = line.id, # line = line,\n",
    "    test = True,\n",
    "    model = model.model,\n",
    "    temperature = model.temperature, \n",
    "    done = raw[\"done\"], \n",
    "    at = datetime.fromisoformat(raw[\"created_at\"]),\n",
    "    **{k:raw[k] for k in [\"load_duration\", \"prompt_eval_duration\", \"eval_duration\"]},\n",
    "    **{k:raw[\"usage\"][k] for k in [\"prompt_tokens\", \"completion_tokens\"]},\n",
    "    no_eq = 0,\n",
    "    raw=PredictRaw(promt=promt, content=response.text), # type: ignore\n",
    "  )\n",
    "  for form in line.forms:\n",
    "    d = json[form.num]\n",
    "    if form.form != d[\"word_form\"]:\n",
    "      print(f\"{form} != {d}\")\n",
    "      return \n",
    "    lemma = d[\"lemma\"]\n",
    "    prediction.lemmas.append(Lemma(form=form, lemma=lemma, eq=(form.lemma == lemma),\n",
    "      raw=LemmaRaw(raw=d, en=d[\"translation_en\"], ru=d[\"translation_ru\"], morph=d[\"morph_analysis\"], syntax=d[\"syntax_analysis\"])\n",
    "    ))\n",
    "  s.add(prediction)\n",
    "  s.commit()\n",
    "  db.stat()\n",
    "\n",
    "prediction_save('bla')\n",
    "db.df(PredictRaw)"
   ]
  },
  {
   "cell_type": "code",
   "execution_count": 27,
   "metadata": {},
   "outputs": [],
   "source": [
    "# llm.response.model_dump()"
   ]
  },
  {
   "cell_type": "code",
   "execution_count": 28,
   "metadata": {},
   "outputs": [
    {
     "name": "stdout",
     "output_type": "stream",
     "text": [
      "1: corpus\n",
      "5: doc\n",
      "2541: line\n",
      "28300: form\n",
      "0: predict\n",
      "0: predictraw\n",
      "0: lemma\n",
      "0: lemmaraw\n"
     ]
    }
   ],
   "source": [
    "db.del_test()\n",
    "db.stat()"
   ]
  },
  {
   "cell_type": "code",
   "execution_count": 9,
   "metadata": {},
   "outputs": [],
   "source": [
    "# s.exec(delete(PredictRaw))\n",
    "# s.exec(delete(Lemma))\n",
    "# s.exec(delete(LemmaRaw))\n",
    "# s.commit()\n",
    "# db.stat()"
   ]
  }
 ],
 "metadata": {
  "kernelspec": {
   "display_name": ".venv",
   "language": "python",
   "name": "python3"
  },
  "language_info": {
   "codemirror_mode": {
    "name": "ipython",
    "version": 3
   },
   "file_extension": ".py",
   "mimetype": "text/x-python",
   "name": "python",
   "nbconvert_exporter": "python",
   "pygments_lexer": "ipython3",
   "version": "3.12.7"
  }
 },
 "nbformat": 4,
 "nbformat_minor": 2
}
