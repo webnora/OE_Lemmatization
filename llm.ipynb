{
 "cells": [
  {
   "cell_type": "code",
   "execution_count": 3,
   "metadata": {},
   "outputs": [],
   "source": [
    "from llm import LLM, LLM_Stream\n",
    "from db import DB"
   ]
  },
  {
   "cell_type": "code",
   "execution_count": 4,
   "metadata": {},
   "outputs": [],
   "source": [
    "llm = LLM()\n",
    "# llm.complete()\n",
    "# llm.debug()"
   ]
  },
  {
   "cell_type": "code",
   "execution_count": 5,
   "metadata": {},
   "outputs": [
    {
     "data": {
      "text/plain": [
       "[{'word_form': 'Mæg',\n",
       "  'lemma': 'magan',\n",
       "  'translation_en': 'can, may',\n",
       "  'translation_ru': 'может, може',\n",
       "  'morph_analysis': 'pronoun, 3rd person singular present subjunctive of magan',\n",
       "  'syntax_analysis': 'subject'},\n",
       " {'word_form': 'gehyran',\n",
       "  'lemma': 'gehyran',\n",
       "  'translation_en': 'hear, listen',\n",
       "  'translation_ru': 'слушать',\n",
       "  'morph_analysis': 'verb, 3rd person singular present indicative of gehyran',\n",
       "  'syntax_analysis': 'object'}]"
      ]
     },
     "execution_count": 5,
     "metadata": {},
     "output_type": "execute_result"
    }
   ],
   "source": [
    "llm.lemmatize_old_english()"
   ]
  },
  {
   "cell_type": "code",
   "execution_count": 8,
   "metadata": {},
   "outputs": [
    {
     "data": {
      "text/plain": [
       "Line(id=244, line='Apollonius cwæð', doc_id=2, num=44, lemmas='Apollonius cweþan')"
      ]
     },
     "execution_count": 8,
     "metadata": {},
     "output_type": "execute_result"
    }
   ],
   "source": [
    "llm.db.get_test_line()"
   ]
  },
  {
   "cell_type": "code",
   "execution_count": 6,
   "metadata": {},
   "outputs": [],
   "source": [
    "# llm_stream = LLM_Stream()\n",
    "# llm_stream.stream_complete(\"Напиши короткое стихотворение\")\n",
    "# # llm_stream.debug()"
   ]
  },
  {
   "cell_type": "code",
   "execution_count": 8,
   "metadata": {},
   "outputs": [],
   "source": [
    "# line: Line = db.tbl(Line, 1).one()\n",
    "# line.forms"
   ]
  }
 ],
 "metadata": {
  "kernelspec": {
   "display_name": ".venv",
   "language": "python",
   "name": "python3"
  },
  "language_info": {
   "codemirror_mode": {
    "name": "ipython",
    "version": 3
   },
   "file_extension": ".py",
   "mimetype": "text/x-python",
   "name": "python",
   "nbconvert_exporter": "python",
   "pygments_lexer": "ipython3",
   "version": "3.12.7"
  }
 },
 "nbformat": 4,
 "nbformat_minor": 2
}
