{
 "cells": [
  {
   "cell_type": "code",
   "execution_count": 1,
   "metadata": {},
   "outputs": [],
   "source": [
    "from llm import LLM, LLM_Stream\n",
    "from db import DB, Corpus, Doc, Line, Form, Predict, PredictRaw, Lemma, LemmaRaw\n",
    "from datetime import datetime\n",
    "from sqlmodel import SQLModel, Field, Relationship, UniqueConstraint, create_engine, Session, select, delete\n",
    "from time import sleep\n",
    "from textwrap import dedent, wrap\n",
    "from pandas import DataFrame as df"
   ]
  },
  {
   "cell_type": "code",
   "execution_count": 10,
   "metadata": {},
   "outputs": [
    {
     "name": "stdout",
     "output_type": "stream",
     "text": [
      "1: corpus\n",
      "5: doc\n",
      "2541: line\n",
      "28300: form\n",
      "1: predict\n",
      "1: predictraw\n",
      "28: lemma\n",
      "28: lemmaraw\n"
     ]
    }
   ],
   "source": [
    "llm = LLM()\n",
    "# llm.complete()\n",
    "# llm.debug()\n",
    "db = llm.db\n",
    "db.del_test()\n",
    "db.stat()"
   ]
  },
  {
   "cell_type": "code",
   "execution_count": null,
   "metadata": {},
   "outputs": [
    {
     "name": "stdout",
     "output_type": "stream",
     "text": [
      "ERR: id=14 form='heo' num=13 line_id=1 lemma='heo' != {'word_form': 'ðurh', 'lemma': 'þurh', 'translation_en': 'through', 'translation_ru': 'через', 'morph_analysis': 'preposition, dative case of þurh (through)', 'syntax_analysis': 'preposition'}\n",
      "None\n"
     ]
    },
    {
     "name": "stderr",
     "output_type": "stream",
     "text": [
      "/Users/malex/src/nora_python/.venv/lib/python3.12/site-packages/sqlmodel/orm/session.py:127: SAWarning: Object of type <Lemma> not in session, add operation along 'Form.lemmas' will not proceed (This warning originated from the Session 'autoflush' process, which was invoked automatically in response to a user-initiated operation.)\n",
      "  return super().execute(\n"
     ]
    },
    {
     "name": "stdout",
     "output_type": "stream",
     "text": [
      "ERR: id=49 form='Alexandria' num=24 line_id=2 lemma='Alexandria' != {'word_form': 'ðone', 'lemma': 'dæn', 'translation_en': 'that', 'translation_ru': 'этот', 'morph_analysis': 'DET, SG, ACC', 'syntax_analysis': 'determiner'}\n",
      "None\n",
      "ERR: id=50 form='And' num=0 line_id=3 lemma='and' != {'word_form': 'he', 'lemma': 'hē', 'translation_en': 'he', 'translation_ru': 'он', 'morph_analysis': '3sg pronominal pronoun', 'syntax_analysis': 'subject'}\n",
      "None\n",
      "ERR: id=97 form='His' num=0 line_id=5 lemma='his' != {'word_form': 'he', 'lemma': 'hē', 'translation_en': 'he', 'translation_ru': 'он', 'morph_analysis': '3sg pronominal pronoun', 'syntax_analysis': 'subject'}\n",
      "None\n",
      "(6, 13)\n",
      "ERR: id=148 form='on' num=10 line_id=7 lemma='on' != {'word_form': 'uðwytegunge', 'lemma': 'understanding', 'translation_en': 'understanding', 'translation_ru': 'понимание', 'morph_analysis': 'noun, genitive singular feminine', 'syntax_analysis': \"attribute of 'Eugenia'\"}\n",
      "None\n",
      "(8, 12)\n",
      "ERR: id=176 form='ðe' num=11 line_id=9 lemma='þe' != {'word_form': 'de', 'lemma': 'de', 'translation_en': 'that', 'translation_ru': 'это', 'morph_analysis': 'Old English pronoun, nominative singular masculine/neuter', 'syntax_analysis': 'subject of the subordinate clause'}\n",
      "None\n",
      "(10, 13)\n",
      "ERR: id=212 form='geleaffulne' num=15 line_id=11 lemma='geleafful' != {'word_form': 'gleaffulne', 'lemma': 'gleafful', 'translation_en': 'faithful, believing', 'translation_ru': 'верующий', 'morph_analysis': 'adj (adjective)', 'syntax_analysis': 'adjective'}\n",
      "None\n",
      "(12, 11)\n",
      "ERR: id=248 form='dii' num=1 line_id=13 lemma='dii' != {'word_form': 'diis', 'lemma': 'deus', 'translation_en': 'god', 'translation_ru': 'бог', 'morph_analysis': 'Plural, Accusative, Masculine/Feminine/Neuter', 'syntax_analysis': 'Object'}\n",
      "None\n",
      "ERR: id=260 form='deofla' num=5 line_id=14 lemma='Deofol' != {'word_form': 'deofola', 'lemma': 'dæfol', 'translation_en': 'devil', 'translation_ru': 'дьявол', 'morph_analysis': 'Gen.Pl.MascNoun', 'syntax_analysis': 'Object'}\n",
      "None\n",
      "(15, 3)\n",
      "ERR: id=280 form='wæron' num=14 line_id=16 lemma='wesan' != {'word_form': 'wæreron', 'lemma': 'weran', 'translation_en': 'were', 'translation_ru': 'были', 'morph_analysis': 'Verb (Plural, Past Tense of weran)', 'syntax_analysis': 'Verb'}\n",
      "None\n",
      "(17, 20)\n",
      "(18, 19)\n",
      "(19, 9)\n"
     ]
    }
   ],
   "source": [
    "# for line in llm.db.tbl(Line):\n",
    "for line in llm.db.get_line():\n",
    "  # print(line)\n",
    "  print(llm.lemmatize(line))"
   ]
  },
  {
   "cell_type": "code",
   "execution_count": 3,
   "metadata": {},
   "outputs": [
    {
     "data": {
      "text/plain": [
       "(244, 0)"
      ]
     },
     "execution_count": 3,
     "metadata": {},
     "output_type": "execute_result"
    }
   ],
   "source": [
    "# llm.lemmatize()"
   ]
  },
  {
   "cell_type": "code",
   "execution_count": 4,
   "metadata": {},
   "outputs": [],
   "source": [
    "# llm_stream = LLM_Stream()\n",
    "# llm_stream.stream_complete(\"Напиши короткое стихотворение\")\n",
    "# # llm_stream.debug()"
   ]
  },
  {
   "cell_type": "code",
   "execution_count": 5,
   "metadata": {},
   "outputs": [],
   "source": [
    "# line: Line = db.tbl(Line, 1).one()\n",
    "# line.forms"
   ]
  },
  {
   "cell_type": "code",
   "execution_count": null,
   "metadata": {},
   "outputs": [],
   "source": [
    "# s = db.s\n",
    "# line = llm.db.get_test_line()\n",
    "# raw = llm.response.raw\n",
    "# raw[\"created_at\"]\n",
    "# db.stat()"
   ]
  },
  {
   "cell_type": "code",
   "execution_count": 8,
   "metadata": {},
   "outputs": [],
   "source": [
    "# s.exec(delete(PredictRaw))\n",
    "# s.exec(delete(Lemma))\n",
    "# s.exec(delete(LemmaRaw))\n",
    "# s.commit()\n",
    "# db.stat()"
   ]
  },
  {
   "cell_type": "code",
   "execution_count": 17,
   "metadata": {},
   "outputs": [
    {
     "data": {
      "text/plain": [
       "<function textwrap.shorten(text, width, **kwargs)>"
      ]
     },
     "execution_count": 17,
     "metadata": {},
     "output_type": "execute_result"
    }
   ],
   "source": [
    "# textwrap.shorten"
   ]
  },
  {
   "cell_type": "code",
   "execution_count": null,
   "metadata": {},
   "outputs": [],
   "source": [
    "# print(db.one(Predict, 1).raw.content)"
   ]
  },
  {
   "cell_type": "code",
   "execution_count": 4,
   "metadata": {},
   "outputs": [
    {
     "data": {
      "text/html": [
       "<div>\n",
       "<style scoped>\n",
       "    .dataframe tbody tr th:only-of-type {\n",
       "        vertical-align: middle;\n",
       "    }\n",
       "\n",
       "    .dataframe tbody tr th {\n",
       "        vertical-align: top;\n",
       "    }\n",
       "\n",
       "    .dataframe thead th {\n",
       "        text-align: right;\n",
       "    }\n",
       "</style>\n",
       "<table border=\"1\" class=\"dataframe\">\n",
       "  <thead>\n",
       "    <tr style=\"text-align: right;\">\n",
       "      <th></th>\n",
       "      <th>eq</th>\n",
       "      <th>lemma</th>\n",
       "      <th>lemma_1</th>\n",
       "      <th>form</th>\n",
       "    </tr>\n",
       "  </thead>\n",
       "  <tbody>\n",
       "    <tr>\n",
       "      <th>0</th>\n",
       "      <td>False</td>\n",
       "      <td>that</td>\n",
       "      <td>þes</td>\n",
       "      <td>Ðæs</td>\n",
       "    </tr>\n",
       "    <tr>\n",
       "      <th>1</th>\n",
       "      <td>False</td>\n",
       "      <td>day</td>\n",
       "      <td>þegen</td>\n",
       "      <td>ðægn</td>\n",
       "    </tr>\n",
       "    <tr>\n",
       "      <th>2</th>\n",
       "      <td>False</td>\n",
       "      <td>Philip</td>\n",
       "      <td>Philippus</td>\n",
       "      <td>Philippus</td>\n",
       "    </tr>\n",
       "    <tr>\n",
       "      <th>3</th>\n",
       "      <td>False</td>\n",
       "      <td>not</td>\n",
       "      <td>ne</td>\n",
       "      <td>n</td>\n",
       "    </tr>\n",
       "    <tr>\n",
       "      <th>4</th>\n",
       "      <td>False</td>\n",
       "      <td>is</td>\n",
       "      <td>wesan</td>\n",
       "      <td>æs</td>\n",
       "    </tr>\n",
       "    <tr>\n",
       "      <th>5</th>\n",
       "      <td>False</td>\n",
       "      <td>not</td>\n",
       "      <td>na</td>\n",
       "      <td>na</td>\n",
       "    </tr>\n",
       "    <tr>\n",
       "      <th>6</th>\n",
       "      <td>False</td>\n",
       "      <td>filled</td>\n",
       "      <td>gefullian</td>\n",
       "      <td>gefullod</td>\n",
       "    </tr>\n",
       "    <tr>\n",
       "      <th>7</th>\n",
       "      <td>True</td>\n",
       "      <td>on</td>\n",
       "      <td>on</td>\n",
       "      <td>on</td>\n",
       "    </tr>\n",
       "    <tr>\n",
       "      <th>8</th>\n",
       "      <td>True</td>\n",
       "      <td>God</td>\n",
       "      <td>God</td>\n",
       "      <td>Gode</td>\n",
       "    </tr>\n",
       "    <tr>\n",
       "      <th>9</th>\n",
       "      <td>False</td>\n",
       "      <td>because</td>\n",
       "      <td>forðam</td>\n",
       "      <td>forþan</td>\n",
       "    </tr>\n",
       "    <tr>\n",
       "      <th>10</th>\n",
       "      <td>False</td>\n",
       "      <td>the</td>\n",
       "      <td>þe</td>\n",
       "      <td>þe</td>\n",
       "    </tr>\n",
       "    <tr>\n",
       "      <th>11</th>\n",
       "      <td>False</td>\n",
       "      <td>Christianity</td>\n",
       "      <td>Cristendom</td>\n",
       "      <td>cristendom</td>\n",
       "    </tr>\n",
       "    <tr>\n",
       "      <th>12</th>\n",
       "      <td>False</td>\n",
       "      <td>is</td>\n",
       "      <td>ne</td>\n",
       "      <td>n</td>\n",
       "    </tr>\n",
       "    <tr>\n",
       "      <th>13</th>\n",
       "      <td>False</td>\n",
       "      <td>is</td>\n",
       "      <td>wesan</td>\n",
       "      <td>æs</td>\n",
       "    </tr>\n",
       "    <tr>\n",
       "      <th>14</th>\n",
       "      <td>False</td>\n",
       "      <td>that</td>\n",
       "      <td>þa</td>\n",
       "      <td>þa</td>\n",
       "    </tr>\n",
       "    <tr>\n",
       "      <th>15</th>\n",
       "      <td>False</td>\n",
       "      <td>still</td>\n",
       "      <td>git</td>\n",
       "      <td>gyt</td>\n",
       "    </tr>\n",
       "    <tr>\n",
       "      <th>16</th>\n",
       "      <td>False</td>\n",
       "      <td>through</td>\n",
       "      <td>geond</td>\n",
       "      <td>geond</td>\n",
       "    </tr>\n",
       "    <tr>\n",
       "      <th>17</th>\n",
       "      <td>False</td>\n",
       "      <td>all</td>\n",
       "      <td>eal</td>\n",
       "      <td>eall</td>\n",
       "    </tr>\n",
       "    <tr>\n",
       "      <th>18</th>\n",
       "      <td>False</td>\n",
       "      <td>knowledge</td>\n",
       "      <td>cunnan</td>\n",
       "      <td>cuð</td>\n",
       "    </tr>\n",
       "    <tr>\n",
       "      <th>19</th>\n",
       "      <td>True</td>\n",
       "      <td>and</td>\n",
       "      <td>and</td>\n",
       "      <td>and</td>\n",
       "    </tr>\n",
       "    <tr>\n",
       "      <th>20</th>\n",
       "      <td>False</td>\n",
       "      <td>the</td>\n",
       "      <td>se</td>\n",
       "      <td>seo</td>\n",
       "    </tr>\n",
       "    <tr>\n",
       "      <th>21</th>\n",
       "      <td>False</td>\n",
       "      <td>righteousness</td>\n",
       "      <td>reðe</td>\n",
       "      <td>reþe</td>\n",
       "    </tr>\n",
       "    <tr>\n",
       "      <th>22</th>\n",
       "      <td>False</td>\n",
       "      <td>honor</td>\n",
       "      <td>eahtnes</td>\n",
       "      <td>æhtnyss</td>\n",
       "    </tr>\n",
       "    <tr>\n",
       "      <th>23</th>\n",
       "      <td>False</td>\n",
       "      <td>that</td>\n",
       "      <td>þa</td>\n",
       "      <td>þa</td>\n",
       "    </tr>\n",
       "    <tr>\n",
       "      <th>24</th>\n",
       "      <td>False</td>\n",
       "      <td>still</td>\n",
       "      <td>git</td>\n",
       "      <td>gyt</td>\n",
       "    </tr>\n",
       "    <tr>\n",
       "      <th>25</th>\n",
       "      <td>False</td>\n",
       "      <td>is</td>\n",
       "      <td>ne</td>\n",
       "      <td>n</td>\n",
       "    </tr>\n",
       "    <tr>\n",
       "      <th>26</th>\n",
       "      <td>False</td>\n",
       "      <td>is</td>\n",
       "      <td>wesan</td>\n",
       "      <td>æs</td>\n",
       "    </tr>\n",
       "    <tr>\n",
       "      <th>27</th>\n",
       "      <td>False</td>\n",
       "      <td>established</td>\n",
       "      <td>gestillan</td>\n",
       "      <td>gestylled</td>\n",
       "    </tr>\n",
       "  </tbody>\n",
       "</table>\n",
       "</div>"
      ],
      "text/plain": [
       "       eq          lemma     lemma_1        form\n",
       "0   False           that         þes         Ðæs\n",
       "1   False            day       þegen        ðægn\n",
       "2   False         Philip   Philippus   Philippus\n",
       "3   False            not          ne           n\n",
       "4   False             is       wesan          æs\n",
       "5   False            not          na          na\n",
       "6   False         filled   gefullian    gefullod\n",
       "7    True             on          on          on\n",
       "8    True            God         God        Gode\n",
       "9   False        because      forðam      forþan\n",
       "10  False            the          þe          þe\n",
       "11  False   Christianity  Cristendom  cristendom\n",
       "12  False             is          ne           n\n",
       "13  False             is       wesan          æs\n",
       "14  False           that          þa          þa\n",
       "15  False          still         git         gyt\n",
       "16  False        through       geond       geond\n",
       "17  False            all         eal        eall\n",
       "18  False      knowledge      cunnan         cuð\n",
       "19   True            and         and         and\n",
       "20  False            the          se         seo\n",
       "21  False  righteousness        reðe        reþe\n",
       "22  False          honor     eahtnes     æhtnyss\n",
       "23  False           that          þa          þa\n",
       "24  False          still         git         gyt\n",
       "25  False             is          ne           n\n",
       "26  False             is       wesan          æs\n",
       "27  False    established   gestillan   gestylled"
      ]
     },
     "execution_count": 4,
     "metadata": {},
     "output_type": "execute_result"
    }
   ],
   "source": [
    "df(db.s.exec(\n",
    "    select(Lemma.eq, Lemma.lemma, Form.lemma, Form.form)\n",
    "    .join(Form, Form.id == Lemma.form_id)\n",
    "    .where(Lemma.predict_id == 1)\n",
    ").all())"
   ]
  },
  {
   "cell_type": "code",
   "execution_count": null,
   "metadata": {},
   "outputs": [],
   "source": [
    "db.df(Predict, 3)"
   ]
  },
  {
   "cell_type": "code",
   "execution_count": null,
   "metadata": {},
   "outputs": [],
   "source": [
    "# for line in db.get_line():\n",
    "#   print(line)\n",
    "#   sleep(1)"
   ]
  }
 ],
 "metadata": {
  "kernelspec": {
   "display_name": ".venv",
   "language": "python",
   "name": "python3"
  },
  "language_info": {
   "codemirror_mode": {
    "name": "ipython",
    "version": 3
   },
   "file_extension": ".py",
   "mimetype": "text/x-python",
   "name": "python",
   "nbconvert_exporter": "python",
   "pygments_lexer": "ipython3",
   "version": "3.12.7"
  }
 },
 "nbformat": 4,
 "nbformat_minor": 2
}
