{
 "cells": [
  {
   "cell_type": "code",
   "execution_count": 1,
   "metadata": {},
   "outputs": [],
   "source": [
    "from llm import LLM, LLM_Stream\n",
    "from db import DB, Corpus, Doc, Line, Form, Predict, Lemma, LemmaRaw\n",
    "from datetime import datetime"
   ]
  },
  {
   "cell_type": "code",
   "execution_count": 2,
   "metadata": {},
   "outputs": [],
   "source": [
    "llm = LLM()\n",
    "# llm.complete()\n",
    "# llm.debug()"
   ]
  },
  {
   "cell_type": "code",
   "execution_count": 3,
   "metadata": {},
   "outputs": [
    {
     "data": {
      "text/plain": [
       "[{'word_form': 'Apollonius',\n",
       "  'lemma': 'Apollonius',\n",
       "  'translation_en': 'Apollonius',\n",
       "  'translation_ru': 'Аполлоний',\n",
       "  'morph_analysis': '',\n",
       "  'syntax_analysis': 'NOUN, SUBJECT'},\n",
       " {'word_form': 'cwæð',\n",
       "  'lemma': 'cweþan',\n",
       "  'translation_en': 'said',\n",
       "  'translation_ru': 'сказал',\n",
       "  'morph_analysis': 'VERB, PAST, 3SG',\n",
       "  'syntax_analysis': 'VERB, VERB'}]"
      ]
     },
     "execution_count": 3,
     "metadata": {},
     "output_type": "execute_result"
    }
   ],
   "source": [
    "llm.lemmatize(llm.db.get_test_line().line)"
   ]
  },
  {
   "cell_type": "code",
   "execution_count": 4,
   "metadata": {},
   "outputs": [],
   "source": [
    "# llm_stream = LLM_Stream()\n",
    "# llm_stream.stream_complete(\"Напиши короткое стихотворение\")\n",
    "# # llm_stream.debug()"
   ]
  },
  {
   "cell_type": "code",
   "execution_count": 5,
   "metadata": {},
   "outputs": [],
   "source": [
    "# line: Line = db.tbl(Line, 1).one()\n",
    "# line.forms"
   ]
  },
  {
   "cell_type": "code",
   "execution_count": 6,
   "metadata": {},
   "outputs": [
    {
     "data": {
      "text/plain": [
       "'2025-01-11T10:38:05.196876Z'"
      ]
     },
     "execution_count": 6,
     "metadata": {},
     "output_type": "execute_result"
    }
   ],
   "source": [
    "db = llm.db\n",
    "line = llm.db.get_test_line()\n",
    "raw = llm.response.raw\n",
    "raw[\"created_at\"]"
   ]
  },
  {
   "cell_type": "code",
   "execution_count": 7,
   "metadata": {},
   "outputs": [
    {
     "name": "stdout",
     "output_type": "stream",
     "text": [
      "1: corpus\n",
      "5: doc\n",
      "2541: line\n",
      "28300: form\n",
      "2: predict\n",
      "0: predictraw\n",
      "0: lemma\n",
      "0: lemmaraw\n"
     ]
    }
   ],
   "source": [
    "with db.s as s:\n",
    "  # form = Form(num=0, form=\"Mæg\", lemma=\"mag\") # type: ignore\n",
    "  # corpus = Corpus(corpus=\"iswoc\", path=\"\", docs=[\n",
    "  #   Doc(doc=\"forms.txt\", \n",
    "  #     lines=[Line(num=0, line=\"Mæg gehyran se ðe\", lemmas=\"mag gehyran se þe\", \n",
    "  #       forms=[form],  \n",
    "  # dict(exclude={\"id\"})\n",
    "  model = llm.llm\n",
    "  raw = llm.response.raw # model_dump_json()[\"raw\"]\n",
    "  usage = raw[\"usage\"]\n",
    "  prediction = Predict(\n",
    "    line = line,\n",
    "    test = True,\n",
    "    model = model.model,\n",
    "    temperature = model.temperature, \n",
    "    done = raw[\"done\"], \n",
    "    at = datetime.fromisoformat(raw[\"created_at\"]),\n",
    "    load_duration = raw[\"load_duration\"],\n",
    "    prompt_eval_duration = raw[\"prompt_eval_duration\"],\n",
    "    eval_duration = raw[\"eval_duration\"],\n",
    "    prompt_tokens = usage[\"prompt_tokens\"],\n",
    "    completion_tokens = usage[\"completion_tokens\"],\n",
    "    no_eq = 0, \n",
    "    # raw=PredictRaw(promt=\"\", content=\"\"), # type: ignore\n",
    "    # lemmas=[Lemma(form=form, lemma=\"mag\", eq=True,\n",
    "    #   raw=LemmaRaw(id=1, en=\"can\", ru=\"может\", morph=\"pronoun\", syntax=\"subject\", \n",
    "    #     raw={\"word_form\": \"Mæg\",\n",
    "    #       \"lemma\": \"mag\",\n",
    "    #       \"translation_en\": \"can\",\n",
    "    #       \"translation_ru\": \"может\",\n",
    "    #       \"morph_analysis\": \"pronoun, 3rd person singular present subjunctive of magan (can)\",\n",
    "    #       \"syntax_analysis\": \"subject\"}) \n",
    "    # )] # type: ignore\n",
    "  )\n",
    "  s.add(prediction)\n",
    "  s.commit()\n",
    "db.stat()"
   ]
  },
  {
   "cell_type": "code",
   "execution_count": 9,
   "metadata": {},
   "outputs": [
    {
     "data": {
      "text/html": [
       "<div>\n",
       "<style scoped>\n",
       "    .dataframe tbody tr th:only-of-type {\n",
       "        vertical-align: middle;\n",
       "    }\n",
       "\n",
       "    .dataframe tbody tr th {\n",
       "        vertical-align: top;\n",
       "    }\n",
       "\n",
       "    .dataframe thead th {\n",
       "        text-align: right;\n",
       "    }\n",
       "</style>\n",
       "<table border=\"1\" class=\"dataframe\">\n",
       "  <thead>\n",
       "    <tr style=\"text-align: right;\">\n",
       "      <th></th>\n",
       "      <th>id</th>\n",
       "      <th>line_id</th>\n",
       "      <th>model</th>\n",
       "      <th>done</th>\n",
       "      <th>no_eq</th>\n",
       "      <th>at</th>\n",
       "      <th>load_duration</th>\n",
       "      <th>prompt_eval_duration</th>\n",
       "      <th>eval_duration</th>\n",
       "      <th>prompt_tokens</th>\n",
       "      <th>completion_tokens</th>\n",
       "      <th>temperature</th>\n",
       "      <th>test</th>\n",
       "    </tr>\n",
       "  </thead>\n",
       "  <tbody>\n",
       "    <tr>\n",
       "      <th>0</th>\n",
       "      <td>1</td>\n",
       "      <td>244</td>\n",
       "      <td>mistral:7b</td>\n",
       "      <td>True</td>\n",
       "      <td>0</td>\n",
       "      <td>2025-01-11 09:09:55.122290</td>\n",
       "      <td>27539000</td>\n",
       "      <td>500000000</td>\n",
       "      <td>3186000000</td>\n",
       "      <td>133</td>\n",
       "      <td>172</td>\n",
       "      <td>0.0</td>\n",
       "      <td>True</td>\n",
       "    </tr>\n",
       "    <tr>\n",
       "      <th>1</th>\n",
       "      <td>2</td>\n",
       "      <td>244</td>\n",
       "      <td>mistral:7b</td>\n",
       "      <td>True</td>\n",
       "      <td>0</td>\n",
       "      <td>2025-01-11 10:38:05.196876</td>\n",
       "      <td>299517042</td>\n",
       "      <td>581000000</td>\n",
       "      <td>3175000000</td>\n",
       "      <td>133</td>\n",
       "      <td>172</td>\n",
       "      <td>0.0</td>\n",
       "      <td>True</td>\n",
       "    </tr>\n",
       "  </tbody>\n",
       "</table>\n",
       "</div>"
      ],
      "text/plain": [
       "   id  line_id       model  done  no_eq                         at  \\\n",
       "0   1      244  mistral:7b  True      0 2025-01-11 09:09:55.122290   \n",
       "1   2      244  mistral:7b  True      0 2025-01-11 10:38:05.196876   \n",
       "\n",
       "   load_duration  prompt_eval_duration  eval_duration  prompt_tokens  \\\n",
       "0       27539000             500000000     3186000000            133   \n",
       "1      299517042             581000000     3175000000            133   \n",
       "\n",
       "   completion_tokens  temperature  test  \n",
       "0                172          0.0  True  \n",
       "1                172          0.0  True  "
      ]
     },
     "execution_count": 9,
     "metadata": {},
     "output_type": "execute_result"
    }
   ],
   "source": [
    "db.df(Predict)"
   ]
  },
  {
   "cell_type": "code",
   "execution_count": 11,
   "metadata": {},
   "outputs": [
    {
     "data": {
      "text/html": [
       "<div>\n",
       "<style scoped>\n",
       "    .dataframe tbody tr th:only-of-type {\n",
       "        vertical-align: middle;\n",
       "    }\n",
       "\n",
       "    .dataframe tbody tr th {\n",
       "        vertical-align: top;\n",
       "    }\n",
       "\n",
       "    .dataframe thead th {\n",
       "        text-align: right;\n",
       "    }\n",
       "</style>\n",
       "<table border=\"1\" class=\"dataframe\">\n",
       "  <thead>\n",
       "    <tr style=\"text-align: right;\">\n",
       "      <th></th>\n",
       "      <th>id</th>\n",
       "      <th>line_id</th>\n",
       "      <th>model</th>\n",
       "      <th>done</th>\n",
       "      <th>no_eq</th>\n",
       "      <th>at</th>\n",
       "      <th>load_duration</th>\n",
       "      <th>prompt_eval_duration</th>\n",
       "      <th>eval_duration</th>\n",
       "      <th>prompt_tokens</th>\n",
       "      <th>completion_tokens</th>\n",
       "      <th>temperature</th>\n",
       "      <th>test</th>\n",
       "    </tr>\n",
       "  </thead>\n",
       "  <tbody>\n",
       "  </tbody>\n",
       "</table>\n",
       "</div>"
      ],
      "text/plain": [
       "Empty DataFrame\n",
       "Columns: [id, line_id, model, done, no_eq, at, load_duration, prompt_eval_duration, eval_duration, prompt_tokens, completion_tokens, temperature, test]\n",
       "Index: []"
      ]
     },
     "execution_count": 11,
     "metadata": {},
     "output_type": "execute_result"
    }
   ],
   "source": [
    "db.del_test()\n",
    "db.df(Predict)"
   ]
  }
 ],
 "metadata": {
  "kernelspec": {
   "display_name": ".venv",
   "language": "python",
   "name": "python3"
  },
  "language_info": {
   "codemirror_mode": {
    "name": "ipython",
    "version": 3
   },
   "file_extension": ".py",
   "mimetype": "text/x-python",
   "name": "python",
   "nbconvert_exporter": "python",
   "pygments_lexer": "ipython3",
   "version": "3.12.7"
  }
 },
 "nbformat": 4,
 "nbformat_minor": 2
}
