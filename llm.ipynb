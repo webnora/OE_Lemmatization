{
 "cells": [
  {
   "cell_type": "code",
   "execution_count": 10,
   "metadata": {},
   "outputs": [],
   "source": [
    "from llm import LLM, LLM_Stream\n",
    "from db import DB, Corpus, Doc, Line, Form, Predict, PredictRaw, Lemma, LemmaRaw\n",
    "from datetime import datetime\n",
    "from sqlmodel import SQLModel, Field, Relationship, UniqueConstraint, create_engine, Session, select, delete\n",
    "from time import sleep\n"
   ]
  },
  {
   "cell_type": "code",
   "execution_count": 2,
   "metadata": {},
   "outputs": [],
   "source": [
    "llm = LLM()\n",
    "# llm.complete()\n",
    "# llm.debug()"
   ]
  },
  {
   "cell_type": "code",
   "execution_count": null,
   "metadata": {},
   "outputs": [],
   "source": [
    "for line in llm.db.tbl(Line):\n",
    "  print(llm.lemmatize(line))"
   ]
  },
  {
   "cell_type": "code",
   "execution_count": 3,
   "metadata": {},
   "outputs": [
    {
     "data": {
      "text/plain": [
       "(244, 0)"
      ]
     },
     "execution_count": 3,
     "metadata": {},
     "output_type": "execute_result"
    }
   ],
   "source": [
    "llm.lemmatize()"
   ]
  },
  {
   "cell_type": "code",
   "execution_count": 4,
   "metadata": {},
   "outputs": [],
   "source": [
    "# llm_stream = LLM_Stream()\n",
    "# llm_stream.stream_complete(\"Напиши короткое стихотворение\")\n",
    "# # llm_stream.debug()"
   ]
  },
  {
   "cell_type": "code",
   "execution_count": 5,
   "metadata": {},
   "outputs": [],
   "source": [
    "# line: Line = db.tbl(Line, 1).one()\n",
    "# line.forms"
   ]
  },
  {
   "cell_type": "code",
   "execution_count": 6,
   "metadata": {},
   "outputs": [
    {
     "name": "stdout",
     "output_type": "stream",
     "text": [
      "1: corpus\n",
      "5: doc\n",
      "2541: line\n",
      "28300: form\n",
      "1: predict\n",
      "1: predictraw\n",
      "2: lemma\n",
      "2: lemmaraw\n"
     ]
    }
   ],
   "source": [
    "db = llm.db\n",
    "# s = db.s\n",
    "# line = llm.db.get_test_line()\n",
    "# raw = llm.response.raw\n",
    "# raw[\"created_at\"]\n",
    "db.stat()"
   ]
  },
  {
   "cell_type": "code",
   "execution_count": 7,
   "metadata": {},
   "outputs": [
    {
     "name": "stdout",
     "output_type": "stream",
     "text": [
      "1: corpus\n",
      "5: doc\n",
      "2541: line\n",
      "28300: form\n",
      "0: predict\n",
      "0: predictraw\n",
      "0: lemma\n",
      "0: lemmaraw\n"
     ]
    }
   ],
   "source": [
    "db.del_test()\n",
    "db.stat()"
   ]
  },
  {
   "cell_type": "code",
   "execution_count": 8,
   "metadata": {},
   "outputs": [],
   "source": [
    "# s.exec(delete(PredictRaw))\n",
    "# s.exec(delete(Lemma))\n",
    "# s.exec(delete(LemmaRaw))\n",
    "# s.commit()\n",
    "# db.stat()"
   ]
  }
 ],
 "metadata": {
  "kernelspec": {
   "display_name": ".venv",
   "language": "python",
   "name": "python3"
  },
  "language_info": {
   "codemirror_mode": {
    "name": "ipython",
    "version": 3
   },
   "file_extension": ".py",
   "mimetype": "text/x-python",
   "name": "python",
   "nbconvert_exporter": "python",
   "pygments_lexer": "ipython3",
   "version": "3.12.7"
  }
 },
 "nbformat": 4,
 "nbformat_minor": 2
}
