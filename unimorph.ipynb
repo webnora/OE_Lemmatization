{
 "cells": [
  {
   "cell_type": "code",
   "execution_count": 4,
   "metadata": {},
   "outputs": [
    {
     "name": "stdout",
     "output_type": "stream",
     "text": [
      "lemmas: 7158 in s/unimorph-ang/ang\n",
      "new lemmas: 5573 in d/in/dict.txt\n",
      "save dict to: d/unimorph/dict.txt\n",
      "siġeġefeoht: ['siġeġefeoht', 'siġeġefeohta', 'siġeġefeohte', 'siġeġefeohtes', 'siġeġefeohtum']\n",
      "lārlȳst: ['lārlȳst', 'lārlȳsta', 'lārlȳste', 'lārlȳstum']\n",
      "dūn: ['dūn', 'dūna', 'dūne', 'dūnum']\n",
      "mēdern: ['mēdern', 'mēderna', 'mēdernan', 'mēderne', 'mēdernena', 'mēdernes', 'mēdernra', 'mēdernre', 'mēdernum']\n",
      "cystiġ: ['cystiġ', 'cystiġa', 'cystiġan', 'cystiġe', 'cystiġena', 'cystiġes', 'cystiġne', 'cystiġo', 'cystiġra', 'cystiġre', 'cystiġu', 'cystiġum', 'cystġa', 'cystġan', 'cystġe', 'cystġena', 'cystġes', 'cystġo', 'cystġu', 'cystġum']\n",
      "cūwearm: ['cūwearm', 'cūwearma', 'cūwearman', 'cūwearme', 'cūwearmena', 'cūwearmes', 'cūwearmne', 'cūwearmra', 'cūwearmre', 'cūwearmum']\n"
     ]
    }
   ],
   "source": [
    "from unimorph import Unimorph\n",
    "\n",
    "u = Unimorph()\n",
    "u.stat()\n",
    "u.diff()\n",
    "u.save()\n",
    "u.print()"
   ]
  },
  {
   "cell_type": "code",
   "execution_count": 1,
   "metadata": {},
   "outputs": [
    {
     "data": {
      "text/plain": [
       "67710"
      ]
     },
     "execution_count": 1,
     "metadata": {},
     "output_type": "execute_result"
    }
   ],
   "source": [
    "74868 - 7158"
   ]
  }
 ],
 "metadata": {
  "kernelspec": {
   "display_name": ".venv",
   "language": "python",
   "name": "python3"
  },
  "language_info": {
   "codemirror_mode": {
    "name": "ipython",
    "version": 3
   },
   "file_extension": ".py",
   "mimetype": "text/x-python",
   "name": "python",
   "nbconvert_exporter": "python",
   "pygments_lexer": "ipython3",
   "version": "3.12.7"
  }
 },
 "nbformat": 4,
 "nbformat_minor": 2
}
