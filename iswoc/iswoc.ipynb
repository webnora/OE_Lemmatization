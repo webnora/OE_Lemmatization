{
 "cells": [
  {
   "cell_type": "code",
   "execution_count": null,
   "metadata": {},
   "outputs": [],
   "source": [
    "from os import listdir\n",
    "from lemmatazer import Lemmatazer"
   ]
  },
  {
   "cell_type": "code",
   "execution_count": 45,
   "metadata": {},
   "outputs": [],
   "source": [
    "class ISWOC:\n",
    "  def __init__(self, index = 1, path = 'iswoc-treebank-conll/'):\n",
    "    self.text = []\n",
    "    self.index = index\n",
    "    for f in listdir(path):\n",
    "      if f.endswith('.conll'):\n",
    "        # if f == 'apt.conll':\n",
    "        self.readFile(path + f)\n",
    "  \n",
    "  def readFile(self, file):\n",
    "    def getWord(line):\n",
    "      arr = line.split('\\t')\n",
    "      if len(arr) > self.index:\n",
    "        return arr[self.index]\n",
    "      return \"\"\n",
    "\n",
    "    with open(file, 'r') as f:\n",
    "      for sentence in f.read().split('\\n\\n'):\n",
    "        text = \" \".join((getWord(l) for l in sentence.split('\\n') if getWord(l)))\n",
    "        self.text.append(text)\n",
    "\n",
    "  def save(self, file = 'out_form.txt'):\n",
    "    with open(file, 'w') as f:\n",
    "      f.write(\"\\n\".join(self.text))\n",
    "\n",
    "cf = ISWOC()\n",
    "cf.save()\n",
    "\n",
    "cl = ISWOC(2)\n",
    "cl.save('out_lemm.txt')"
   ]
  },
  {
   "cell_type": "code",
   "execution_count": 4,
   "metadata": {},
   "outputs": [
    {
     "name": "stdout",
     "output_type": "stream",
     "text": [
      "All words: 14622\n",
      "Forms not found: 2498\n",
      "Lemms not found: 1471\n"
     ]
    }
   ],
   "source": [
    "\n",
    "lm = Lemmatazer()\n",
    "# lm.parse('out_form.txt')\n",
    "lm.parse_without_stops('out_form.txt')\n",
    "lm.print_statistics()\n",
    "lm.save()\n",
    "lm.save_text()"
   ]
  }
 ],
 "metadata": {
  "kernelspec": {
   "display_name": ".venv",
   "language": "python",
   "name": "python3"
  },
  "language_info": {
   "codemirror_mode": {
    "name": "ipython",
    "version": 3
   },
   "file_extension": ".py",
   "mimetype": "text/x-python",
   "name": "python",
   "nbconvert_exporter": "python",
   "pygments_lexer": "ipython3",
   "version": "3.12.7"
  }
 },
 "nbformat": 4,
 "nbformat_minor": 2
}
