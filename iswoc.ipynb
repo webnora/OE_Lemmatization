{
 "cells": [
  {
   "cell_type": "code",
   "execution_count": 13,
   "metadata": {},
   "outputs": [],
   "source": [
    "from pandas import DataFrame as df\n",
    "from iswoc import ISWOC\n",
    "from db import DB"
   ]
  },
  {
   "cell_type": "code",
   "execution_count": 6,
   "metadata": {},
   "outputs": [
    {
     "name": "stdout",
     "output_type": "stream",
     "text": [
      "save text to: forms.txt\n",
      "save text to: lemmas.txt\n"
     ]
    }
   ],
   "source": [
    "o = ISWOC()\n",
    "o.save()\n",
    "o.save_lemmas()"
   ]
  },
  {
   "cell_type": "code",
   "execution_count": 7,
   "metadata": {},
   "outputs": [],
   "source": [
    "# o.commit(init=True)"
   ]
  },
  {
   "cell_type": "code",
   "execution_count": 8,
   "metadata": {},
   "outputs": [
    {
     "name": "stdout",
     "output_type": "stream",
     "text": [
      "Stop words: 0\n",
      "All words: 28300\n",
      "Forms not found: 4052 (14.32%)\n",
      "Lemms not found: 906 (3.20%)\n",
      "save text to: d/iswoc/lemmatize.txt\n"
     ]
    }
   ],
   "source": [
    "o.lemmatize()"
   ]
  },
  {
   "cell_type": "code",
   "execution_count": 9,
   "metadata": {},
   "outputs": [
    {
     "data": {
      "text/html": [
       "<div>\n",
       "<style scoped>\n",
       "    .dataframe tbody tr th:only-of-type {\n",
       "        vertical-align: middle;\n",
       "    }\n",
       "\n",
       "    .dataframe tbody tr th {\n",
       "        vertical-align: top;\n",
       "    }\n",
       "\n",
       "    .dataframe thead th {\n",
       "        text-align: right;\n",
       "    }\n",
       "</style>\n",
       "<table border=\"1\" class=\"dataframe\">\n",
       "  <thead>\n",
       "    <tr style=\"text-align: right;\">\n",
       "      <th></th>\n",
       "      <th>0</th>\n",
       "      <th>1</th>\n",
       "      <th>2</th>\n",
       "      <th>3</th>\n",
       "    </tr>\n",
       "  </thead>\n",
       "  <tbody>\n",
       "    <tr>\n",
       "      <th>0</th>\n",
       "      <td>Ælfric's Lives of Saints</td>\n",
       "      <td>Old English</td>\n",
       "      <td>æls</td>\n",
       "      <td>3,137 tokens</td>\n",
       "    </tr>\n",
       "    <tr>\n",
       "      <th>1</th>\n",
       "      <td>Apollonius of Tyre</td>\n",
       "      <td>Old English</td>\n",
       "      <td>apt</td>\n",
       "      <td>5,541 tokens</td>\n",
       "    </tr>\n",
       "    <tr>\n",
       "      <th>2</th>\n",
       "      <td>Anglo-Saxon Chronicles</td>\n",
       "      <td>Old English</td>\n",
       "      <td>chrona</td>\n",
       "      <td>5,939 tokens</td>\n",
       "    </tr>\n",
       "    <tr>\n",
       "      <th>3</th>\n",
       "      <td>Orosius</td>\n",
       "      <td>Old English</td>\n",
       "      <td>or</td>\n",
       "      <td>1,728 tokens</td>\n",
       "    </tr>\n",
       "    <tr>\n",
       "      <th>4</th>\n",
       "      <td>West-Saxon Gospels</td>\n",
       "      <td>Old English</td>\n",
       "      <td>wscp</td>\n",
       "      <td>13,061 tokens</td>\n",
       "    </tr>\n",
       "  </tbody>\n",
       "</table>\n",
       "</div>"
      ],
      "text/plain": [
       "                          0            1       2              3\n",
       "0  Ælfric's Lives of Saints  Old English     æls   3,137 tokens\n",
       "1        Apollonius of Tyre  Old English     apt   5,541 tokens\n",
       "2    Anglo-Saxon Chronicles  Old English  chrona   5,939 tokens\n",
       "3                   Orosius  Old English      or   1,728 tokens\n",
       "4        West-Saxon Gospels  Old English    wscp  13,061 tokens"
      ]
     },
     "execution_count": 9,
     "metadata": {},
     "output_type": "execute_result"
    }
   ],
   "source": [
    "df(o.files_desc)"
   ]
  },
  {
   "cell_type": "code",
   "execution_count": 10,
   "metadata": {},
   "outputs": [
    {
     "name": "stdout",
     "output_type": "stream",
     "text": [
      "  Ælfric's Lives of Saints                            | \u001b[01;31m\u001b[KOld English\u001b[m\u001b[K         | æls         |   3,137 tokens\n",
      "  Apollonius of Tyre                                  | \u001b[01;31m\u001b[KOld English\u001b[m\u001b[K         | apt         |   5,541 tokens\n",
      "  Anglo-Saxon Chronicles                              | \u001b[01;31m\u001b[KOld English\u001b[m\u001b[K         | chrona      |   5,939 tokens\n",
      "  Orosius                                             | \u001b[01;31m\u001b[KOld English\u001b[m\u001b[K         | or          |   1,728 tokens\n",
      "  West-Saxon Gospels                                  | \u001b[01;31m\u001b[KOld English\u001b[m\u001b[K         | wscp        |  13,061 tokens\n"
     ]
    }
   ],
   "source": [
    "!cat s/syntacticus-treebank-data/iswoc/README.md | grep 'Old English'"
   ]
  },
  {
   "cell_type": "code",
   "execution_count": 11,
   "metadata": {},
   "outputs": [
    {
     "name": "stdout",
     "output_type": "stream",
     "text": [
      "cge2.conll\n",
      "or.conll\n",
      "ee1.conll\n",
      "apt.conll\n",
      "ge4.conll\n",
      "cge1.conll\n",
      "varones.conll\n",
      "wscp.conll\n",
      "chrona.conll\n",
      "coutdec-v-8.conll\n",
      "cdeluc.conll\n",
      "alfonso-xi.conll\n",
      "æls.conll\n",
      "ce.conll\n",
      "eustace.conll\n"
     ]
    }
   ],
   "source": [
    "import os\n",
    "from glob import glob\n",
    "\n",
    "for f in glob(f\"{ISWOC.path_in}/*.conll\"): # not all OE!\n",
    "  print(os.path.basename(f))"
   ]
  },
  {
   "cell_type": "code",
   "execution_count": 14,
   "metadata": {},
   "outputs": [
    {
     "name": "stdout",
     "output_type": "stream",
     "text": [
      "1: corpus\n",
      "5: doc\n",
      "2541: line\n",
      "28300: form\n",
      "0: predict\n",
      "0: predictraw\n",
      "0: lemma\n",
      "0: lemmaraw\n"
     ]
    }
   ],
   "source": [
    "db = DB()\n",
    "db.stat()"
   ]
  }
 ],
 "metadata": {
  "kernelspec": {
   "display_name": ".venv",
   "language": "python",
   "name": "python3"
  },
  "language_info": {
   "codemirror_mode": {
    "name": "ipython",
    "version": 3
   },
   "file_extension": ".py",
   "mimetype": "text/x-python",
   "name": "python",
   "nbconvert_exporter": "python",
   "pygments_lexer": "ipython3",
   "version": "3.12.7"
  }
 },
 "nbformat": 4,
 "nbformat_minor": 2
}
