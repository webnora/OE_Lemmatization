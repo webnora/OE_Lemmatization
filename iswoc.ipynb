{
 "cells": [
  {
   "cell_type": "code",
   "execution_count": 2,
   "metadata": {},
   "outputs": [],
   "source": [
    "from os import listdir\n",
    "from lemmatazer import Lemmatazer"
   ]
  },
  {
   "cell_type": "code",
   "execution_count": 4,
   "metadata": {},
   "outputs": [
    {
     "name": "stdout",
     "output_type": "stream",
     "text": [
      "save text to: lemmas.txt\n",
      "save text to: forms.txt\n",
      "Stop words: 0\n",
      "All words: 14622\n",
      "Forms not found: 2498 (17.08%)\n",
      "Lemms not found: 1471 (10.06%)\n",
      "save text to: d/iswoc/lemmatize.txt\n"
     ]
    }
   ],
   "source": [
    "class ISWOC:\n",
    "  path_out = 'd/iswoc/'\n",
    "  file_forms = 'forms.txt'\n",
    "\n",
    "  def __init__(self, index = 1, path = 'd/in/iswoc-treebank-conll/'):\n",
    "    self.text = []\n",
    "    self.index = index\n",
    "    for f in listdir(path):\n",
    "      if f.endswith('.conll'):\n",
    "        self.readFile(path + f)\n",
    "  \n",
    "  def readFile(self, file):\n",
    "    def getWord(line):\n",
    "      arr = line.split('\\t')\n",
    "      if len(arr) > self.index:\n",
    "        return arr[self.index]\n",
    "      return \"\"\n",
    "\n",
    "    with open(file, 'r') as f:\n",
    "      for sentence in f.read().split('\\n\\n'):\n",
    "        text = \" \".join((getWord(l) for l in sentence.split('\\n') if getWord(l)))\n",
    "        self.text.append(text)\n",
    "\n",
    "  def save(self, file = file_forms):\n",
    "    print(f'save text to: {file}')\n",
    "    with open(self.path_out + file, 'w') as f:\n",
    "      f.write(\"\\n\".join(self.text))\n",
    "\n",
    "  def lemmatize(self, file = path_out + file_forms, file_out = path_out + 'lemmatize.txt'):\n",
    "    lm = Lemmatazer(\"\")\n",
    "    lm.parse(file)\n",
    "    lm.stat()\n",
    "    lm.save_text(file_out)\n",
    "\n",
    "cl = ISWOC(2)\n",
    "cl.save('lemmas.txt')\n",
    "\n",
    "cf = ISWOC()\n",
    "cf.save()\n",
    "cf.lemmatize()"
   ]
  }
 ],
 "metadata": {
  "kernelspec": {
   "display_name": ".venv",
   "language": "python",
   "name": "python3"
  },
  "language_info": {
   "codemirror_mode": {
    "name": "ipython",
    "version": 3
   },
   "file_extension": ".py",
   "mimetype": "text/x-python",
   "name": "python",
   "nbconvert_exporter": "python",
   "pygments_lexer": "ipython3",
   "version": "3.12.7"
  }
 },
 "nbformat": 4,
 "nbformat_minor": 2
}
