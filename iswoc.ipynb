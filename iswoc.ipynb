{
 "cells": [
  {
   "cell_type": "code",
   "execution_count": 6,
   "metadata": {},
   "outputs": [],
   "source": [
    "import pandas as pd\n",
    "from iswoc import ISWOC"
   ]
  },
  {
   "cell_type": "code",
   "execution_count": 2,
   "metadata": {},
   "outputs": [
    {
     "name": "stdout",
     "output_type": "stream",
     "text": [
      "save text to: lemmas.txt\n"
     ]
    }
   ],
   "source": [
    "cl = ISWOC(2)\n",
    "cl.save('lemmas.txt')"
   ]
  },
  {
   "cell_type": "code",
   "execution_count": 3,
   "metadata": {},
   "outputs": [
    {
     "name": "stdout",
     "output_type": "stream",
     "text": [
      "save text to: forms.txt\n",
      "Stop words: 0\n",
      "All words: 28300\n",
      "Forms not found: 4052 (14.32%)\n",
      "Lemms not found: 906 (3.20%)\n",
      "save text to: d/iswoc/lemmatize.txt\n"
     ]
    }
   ],
   "source": [
    "cf = ISWOC()\n",
    "cf.save()\n",
    "cf.lemmatize()"
   ]
  },
  {
   "cell_type": "code",
   "execution_count": 7,
   "metadata": {},
   "outputs": [
    {
     "data": {
      "text/html": [
       "<div>\n",
       "<style scoped>\n",
       "    .dataframe tbody tr th:only-of-type {\n",
       "        vertical-align: middle;\n",
       "    }\n",
       "\n",
       "    .dataframe tbody tr th {\n",
       "        vertical-align: top;\n",
       "    }\n",
       "\n",
       "    .dataframe thead th {\n",
       "        text-align: right;\n",
       "    }\n",
       "</style>\n",
       "<table border=\"1\" class=\"dataframe\">\n",
       "  <thead>\n",
       "    <tr style=\"text-align: right;\">\n",
       "      <th></th>\n",
       "      <th>0</th>\n",
       "      <th>1</th>\n",
       "      <th>2</th>\n",
       "      <th>3</th>\n",
       "    </tr>\n",
       "  </thead>\n",
       "  <tbody>\n",
       "    <tr>\n",
       "      <th>0</th>\n",
       "      <td>Ælfric's Lives of Saints</td>\n",
       "      <td>Old English</td>\n",
       "      <td>æls</td>\n",
       "      <td>3,137 tokens</td>\n",
       "    </tr>\n",
       "    <tr>\n",
       "      <th>1</th>\n",
       "      <td>Apollonius of Tyre</td>\n",
       "      <td>Old English</td>\n",
       "      <td>apt</td>\n",
       "      <td>5,541 tokens</td>\n",
       "    </tr>\n",
       "    <tr>\n",
       "      <th>2</th>\n",
       "      <td>Anglo-Saxon Chronicles</td>\n",
       "      <td>Old English</td>\n",
       "      <td>chrona</td>\n",
       "      <td>5,939 tokens</td>\n",
       "    </tr>\n",
       "    <tr>\n",
       "      <th>3</th>\n",
       "      <td>Orosius</td>\n",
       "      <td>Old English</td>\n",
       "      <td>or</td>\n",
       "      <td>1,728 tokens</td>\n",
       "    </tr>\n",
       "    <tr>\n",
       "      <th>4</th>\n",
       "      <td>West-Saxon Gospels</td>\n",
       "      <td>Old English</td>\n",
       "      <td>wscp</td>\n",
       "      <td>13,061 tokens</td>\n",
       "    </tr>\n",
       "  </tbody>\n",
       "</table>\n",
       "</div>"
      ],
      "text/plain": [
       "                          0            1       2              3\n",
       "0  Ælfric's Lives of Saints  Old English     æls   3,137 tokens\n",
       "1        Apollonius of Tyre  Old English     apt   5,541 tokens\n",
       "2    Anglo-Saxon Chronicles  Old English  chrona   5,939 tokens\n",
       "3                   Orosius  Old English      or   1,728 tokens\n",
       "4        West-Saxon Gospels  Old English    wscp  13,061 tokens"
      ]
     },
     "execution_count": 7,
     "metadata": {},
     "output_type": "execute_result"
    }
   ],
   "source": [
    "pd.DataFrame(cf.files)"
   ]
  },
  {
   "cell_type": "code",
   "execution_count": 5,
   "metadata": {},
   "outputs": [
    {
     "name": "stdout",
     "output_type": "stream",
     "text": [
      "  Ælfric's Lives of Saints                            | \u001b[01;31m\u001b[KOld English\u001b[m\u001b[K         | æls         |   3,137 tokens\n",
      "  Apollonius of Tyre                                  | \u001b[01;31m\u001b[KOld English\u001b[m\u001b[K         | apt         |   5,541 tokens\n",
      "  Anglo-Saxon Chronicles                              | \u001b[01;31m\u001b[KOld English\u001b[m\u001b[K         | chrona      |   5,939 tokens\n",
      "  Orosius                                             | \u001b[01;31m\u001b[KOld English\u001b[m\u001b[K         | or          |   1,728 tokens\n",
      "  West-Saxon Gospels                                  | \u001b[01;31m\u001b[KOld English\u001b[m\u001b[K         | wscp        |  13,061 tokens\n"
     ]
    }
   ],
   "source": [
    "!cat s/syntacticus-treebank-data/iswoc/README.md | grep 'Old English'"
   ]
  }
 ],
 "metadata": {
  "kernelspec": {
   "display_name": ".venv",
   "language": "python",
   "name": "python3"
  },
  "language_info": {
   "codemirror_mode": {
    "name": "ipython",
    "version": 3
   },
   "file_extension": ".py",
   "mimetype": "text/x-python",
   "name": "python",
   "nbconvert_exporter": "python",
   "pygments_lexer": "ipython3",
   "version": "3.12.7"
  }
 },
 "nbformat": 4,
 "nbformat_minor": 2
}
