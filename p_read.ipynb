{
 "cells": [
  {
   "cell_type": "code",
   "execution_count": null,
   "metadata": {},
   "outputs": [
    {
     "name": "stdout",
     "output_type": "stream",
     "text": [
      "Stop words: 0\n",
      "All words: 14622\n",
      "Forms not found: 10187\n",
      "Lemms not found: 3125\n"
     ]
    }
   ],
   "source": [
    "from lemmatazer import Lemmatazer\n",
    "from lemmas import Lemmas\n",
    "\n",
    "lm = Lemmatazer('', Lemmas.file_unimorph_norm)\n",
    "lm.parse('d/iswoc/forms.txt')\n",
    "lm.print_statistics()\n",
    "lm.save_debug('d/p_read/debug.txt')\n",
    "lm.save_text('d/p_read/text.txt')"
   ]
  },
  {
   "cell_type": "code",
   "execution_count": 10,
   "metadata": {},
   "outputs": [
    {
     "name": "stdout",
     "output_type": "stream",
     "text": [
      "Stop words: 0\n",
      "All words: 14622\n",
      "Forms not found: 2597\n",
      "Lemms not found: 1501\n"
     ]
    }
   ],
   "source": [
    "lm = Lemmatazer('', Lemmas.file_out)\n",
    "lm.parse('d/iswoc/forms.txt')\n",
    "lm.print_statistics()\n",
    "lm.save_debug('d/p_read/debug2.txt')\n",
    "lm.save_text('d/p_read/text2.txt')"
   ]
  }
 ],
 "metadata": {
  "kernelspec": {
   "display_name": ".venv",
   "language": "python",
   "name": "python3"
  },
  "language_info": {
   "codemirror_mode": {
    "name": "ipython",
    "version": 3
   },
   "file_extension": ".py",
   "mimetype": "text/x-python",
   "name": "python",
   "nbconvert_exporter": "python",
   "pygments_lexer": "ipython3",
   "version": "3.12.7"
  }
 },
 "nbformat": 4,
 "nbformat_minor": 2
}
