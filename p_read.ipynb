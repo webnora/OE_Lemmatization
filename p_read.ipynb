{
 "cells": [
  {
   "cell_type": "code",
   "execution_count": 1,
   "metadata": {},
   "outputs": [],
   "source": [
    "from lemmatazer import Lemmatazer\n",
    "from lemmas import Lemmas"
   ]
  },
  {
   "cell_type": "code",
   "execution_count": 2,
   "metadata": {},
   "outputs": [
    {
     "name": "stdout",
     "output_type": "stream",
     "text": [
      "Stop words: 0\n",
      "All words: 14622\n",
      "Forms not found: 10187\n",
      "Lemms not found: 3125\n"
     ]
    }
   ],
   "source": [
    "lm = Lemmatazer('', Lemmas.file_unimorph_norm)\n",
    "lm.parse('d/iswoc/forms.txt')\n",
    "lm.print_statistics()\n",
    "lm.save_debug('d/p_read/debug.txt')\n",
    "lm.save_text('d/p_read/text.txt')"
   ]
  },
  {
   "cell_type": "code",
   "execution_count": null,
   "metadata": {},
   "outputs": [
    {
     "name": "stdout",
     "output_type": "stream",
     "text": [
      "Stop words: 0\n",
      "All words: 14622\n",
      "Forms not found: 2597\n",
      "Lemms not found: 1501\n"
     ]
    }
   ],
   "source": [
    "lm2 = Lemmatazer('', Lemmas.file_out)\n",
    "lm2.parse('d/iswoc/forms.txt')\n",
    "lm2.print_statistics()\n",
    "lm2.save_debug('d/p_read/debug2.txt')\n",
    "lm2.save_text('d/p_read/text2.txt')"
   ]
  },
  {
   "cell_type": "code",
   "execution_count": 2,
   "metadata": {},
   "outputs": [
    {
     "name": "stdout",
     "output_type": "stream",
     "text": [
      "Stop words: 0\n",
      "All words: 14622\n",
      "Forms not found: 1982\n",
      "Lemms not found: 1267\n"
     ]
    }
   ],
   "source": [
    "lm2 = Lemmatazer('', Lemmas.file_out_norm)\n",
    "lm2.parse('d/iswoc/forms.txt')\n",
    "lm2.print_statistics()\n",
    "lm2.save_debug('d/p_read/debug2.txt')\n",
    "lm2.save_text('d/p_read/text2.txt')"
   ]
  },
  {
   "cell_type": "code",
   "execution_count": 5,
   "metadata": {},
   "outputs": [
    {
     "name": "stdout",
     "output_type": "stream",
     "text": [
      "Stop words: 0\n",
      "All words: 14622\n",
      "Forms not found: 1982\n",
      "Lemms not found: 1267\n"
     ]
    }
   ],
   "source": [
    "class PRead(Lemmatazer):\n",
    "  path_out = 'd/p_read/'\n",
    "  file_in = 'd/iswoc/forms.txt'\n",
    "\n",
    "  def __init__(self, file = Lemmas.file_out_norm):\n",
    "    super().__init__('', file)\n",
    "\n",
    "  def save_text(self, fileName = path_out + 'text2.txt'):\n",
    "    super().save_text(fileName)\n",
    "\n",
    "  def save_debug(self, fileName = path_out + 'debug2.txt'):\n",
    "    super().save_debug(fileName)\n",
    "\n",
    "  def parse(self, fileName = file_in):\n",
    "    super().parse(fileName)\n",
    "\n",
    "  def make_form(self, line):\n",
    "    arr = line.split('\\t')\n",
    "    if len(arr) == 2:\n",
    "      lemmas = arr[0]\n",
    "      form = arr[1]\n",
    "      was = self.form.get(form)\n",
    "      if was:\n",
    "        lemmas += '|' + was\n",
    "      self.form[form] = lemmas\n",
    "\n",
    "lm2 = PRead()\n",
    "lm2.parse()\n",
    "lm2.print_statistics()\n",
    "lm2.save_debug()\n",
    "lm2.save_text()"
   ]
  }
 ],
 "metadata": {
  "kernelspec": {
   "display_name": ".venv",
   "language": "python",
   "name": "python3"
  },
  "language_info": {
   "codemirror_mode": {
    "name": "ipython",
    "version": 3
   },
   "file_extension": ".py",
   "mimetype": "text/x-python",
   "name": "python",
   "nbconvert_exporter": "python",
   "pygments_lexer": "ipython3",
   "version": "3.12.7"
  }
 },
 "nbformat": 4,
 "nbformat_minor": 2
}
